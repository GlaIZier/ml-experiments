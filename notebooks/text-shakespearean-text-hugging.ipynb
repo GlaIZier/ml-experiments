{
 "cells": [
  {
   "cell_type": "code",
   "execution_count": 4,
   "id": "364578ef-326c-41ab-80cf-0bdf89270b97",
   "metadata": {},
   "outputs": [
    {
     "name": "stderr",
     "output_type": "stream",
     "text": [
      "No model was supplied, defaulted to gpt2 (https://huggingface.co/gpt2)\n",
      "All model checkpoint layers were used when initializing TFGPT2LMHeadModel.\n",
      "\n",
      "All the layers of TFGPT2LMHeadModel were initialized from the model checkpoint at gpt2.\n",
      "If your task is similar to the task the model of the checkpoint was trained on, you can already use TFGPT2LMHeadModel for predictions without further training.\n",
      "Setting `pad_token_id` to 50256 (first `eos_token_id`) to generate sequence\n"
     ]
    },
    {
     "data": {
      "text/plain": [
       "[{'generated_text': 'Three Rings for the Elven-kings under the sky, Seven for the Dwarf-lords in their halls of stone, and Four for the Orc-tribes, those who dwell deep in the dark. In the darkness, in the mountains, even'}]"
      ]
     },
     "execution_count": 4,
     "metadata": {},
     "output_type": "execute_result"
    }
   ],
   "source": [
    "import numpy as np\n",
    "import tensorflow as tf\n",
    "\n",
    "from transformers import pipeline\n",
    "\n",
    "generator = pipeline(task=\"text-generation\")"
   ]
  },
  {
   "cell_type": "code",
   "execution_count": 7,
   "id": "94b9217f-b46c-4dec-9162-13a8e33f9175",
   "metadata": {},
   "outputs": [
    {
     "name": "stderr",
     "output_type": "stream",
     "text": [
      "Setting `pad_token_id` to 50256 (first `eos_token_id`) to generate sequence\n",
      "Setting `pad_token_id` to 50256 (first `eos_token_id`) to generate sequence\n"
     ]
    },
    {
     "name": "stdout",
     "output_type": "stream",
     "text": [
      "[{'generated_text': 'Three Rings for the Elven-kings under the sky, Seven for the Dwarf-lords in their halls of stone; six for the Dark Elves in the heart of space; three Rings for the Dark Elves; eight for the Eldar-Kodd'}]\n"
     ]
    },
    {
     "name": "stderr",
     "output_type": "stream",
     "text": [
      "Setting `pad_token_id` to 50256 (first `eos_token_id`) to generate sequence\n"
     ]
    },
    {
     "name": "stdout",
     "output_type": "stream",
     "text": [
      "[{'generated_text': \"Three Rings for the Elven-kings under the sky, Seven for the Dwarf-lords in their halls of stone, and so on. With many names, and dozens of symbols, and with them it's obvious that these names don't have any\"}]\n",
      "[{'generated_text': 'Three Rings for the Elven-kings under the sky, Seven for the Dwarf-lords in their halls of stone, and Twelve for the Elves, of which the Elves had taken no small part and all but fifty had died.\"\\n\\nThe Dwar'}]\n"
     ]
    }
   ],
   "source": [
    "print(generator(\"Three Rings for the Elven-kings under the sky, Seven for the Dwarf-lords in their halls of stone\"))\n",
    "print(generator(\"Three Rings for the Elven-kings under the sky, Seven for the Dwarf-lords in their halls of stone\"))\n",
    "print(generator(\"Three Rings for the Elven-kings under the sky, Seven for the Dwarf-lords in their halls of stone\"))"
   ]
  },
  {
   "cell_type": "code",
   "execution_count": 9,
   "id": "987b0ca1-6936-4ab2-91ea-9729334f924c",
   "metadata": {},
   "outputs": [
    {
     "name": "stderr",
     "output_type": "stream",
     "text": [
      "Setting `pad_token_id` to 50256 (first `eos_token_id`) to generate sequence\n",
      "Setting `pad_token_id` to 50256 (first `eos_token_id`) to generate sequence\n"
     ]
    },
    {
     "name": "stdout",
     "output_type": "stream",
     "text": [
      "[{'generated_text': 'This royal throne of kings, this sceptred isle,\\nThis earth of majesty, this throne, all hail:\\nThe crown of kings, and the holy, this royal throne,\\nThis sceptred isle.'}]\n"
     ]
    },
    {
     "name": "stderr",
     "output_type": "stream",
     "text": [
      "Setting `pad_token_id` to 50256 (first `eos_token_id`) to generate sequence\n"
     ]
    },
    {
     "name": "stdout",
     "output_type": "stream",
     "text": [
      "[{'generated_text': 'This royal throne of kings, this sceptred isle,\\nThis earth of majesty, this lofty mountain of thorns.\\n\\n\\nAnd the whole world. Whence, kings, lords: what a world they are. And why must they go'}]\n",
      "[{'generated_text': 'This royal throne of kings, this sceptred isle,\\nThis earth of majesty, these earths that are the land of the gods,\\nThis sacred land of heaven, this sacred country,\\nThis holy land which is blessed by the Gods'}]\n"
     ]
    }
   ],
   "source": [
    "print(generator(\"\"\"This royal throne of kings, this sceptred isle,\n",
    "This earth of majesty,\"\"\"))\n",
    "print(generator(\"\"\"This royal throne of kings, this sceptred isle,\n",
    "This earth of majesty,\"\"\"))\n",
    "print(generator(\"\"\"This royal throne of kings, this sceptred isle,\n",
    "This earth of majesty,\"\"\"))"
   ]
  }
 ],
 "metadata": {
  "kernelspec": {
   "display_name": "Python 3 (ipykernel)",
   "language": "python",
   "name": "python3"
  },
  "language_info": {
   "codemirror_mode": {
    "name": "ipython",
    "version": 3
   },
   "file_extension": ".py",
   "mimetype": "text/x-python",
   "name": "python",
   "nbconvert_exporter": "python",
   "pygments_lexer": "ipython3",
   "version": "3.8.6"
  }
 },
 "nbformat": 4,
 "nbformat_minor": 5
}
