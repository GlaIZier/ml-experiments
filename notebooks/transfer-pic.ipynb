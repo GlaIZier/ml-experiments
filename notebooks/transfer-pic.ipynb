{
 "cells": [
  {
   "cell_type": "markdown",
   "id": "011a43ff-b2ba-4ff6-a55d-4d24cecd46c5",
   "metadata": {},
   "source": [
    "## Transfer learning to recognise new pictures"
   ]
  },
  {
   "cell_type": "code",
   "execution_count": 1,
   "id": "028467c8-45e2-46b3-8aee-cd71f8b26aea",
   "metadata": {},
   "outputs": [
    {
     "data": {
      "text/plain": [
       "'2.4.1'"
      ]
     },
     "execution_count": 1,
     "metadata": {},
     "output_type": "execute_result"
    }
   ],
   "source": [
    "import logging\n",
    "import tensorflow as tf\n",
    "import keras\n",
    "\n",
    "logging.basicConfig(format='%(asctime)s : %(levelname)s : %(message)s', level=logging.INFO)\n",
    "log = logging.getLogger()\n",
    "\n",
    "%config Completer.use_jedi = False # make autocompletion works in jupyter\n",
    "\n",
    "tf.__version__"
   ]
  },
  {
   "cell_type": "code",
   "execution_count": 1,
   "id": "839ae21e-6eba-45f9-8e51-ca090780cb80",
   "metadata": {},
   "outputs": [],
   "source": [
    "import argparse \n",
    "\n",
    "\n",
    "args = argparse.Namespace()\n",
    "args.train_full_folder = './transfer-pic/'\n",
    "args.train_full_car_folder = args.train_full_folder + 'car/'\n",
    "args.train_full_no_car_folder = args.train_full_car_folder + 'no-car/' \n",
    "\n",
    "\n"
   ]
  }
 ],
 "metadata": {
  "kernelspec": {
   "display_name": "Python 3",
   "language": "python",
   "name": "python3"
  },
  "language_info": {
   "codemirror_mode": {
    "name": "ipython",
    "version": 3
   },
   "file_extension": ".py",
   "mimetype": "text/x-python",
   "name": "python",
   "nbconvert_exporter": "python",
   "pygments_lexer": "ipython3",
   "version": "3.7.4"
  }
 },
 "nbformat": 4,
 "nbformat_minor": 5
}
