{
 "cells": [
  {
   "cell_type": "markdown",
   "id": "011a43ff-b2ba-4ff6-a55d-4d24cecd46c5",
   "metadata": {},
   "source": [
    "## Transfer learning to recognise new pictures"
   ]
  },
  {
   "cell_type": "code",
   "execution_count": null,
   "id": "028467c8-45e2-46b3-8aee-cd71f8b26aea",
   "metadata": {},
   "outputs": [],
   "source": []
  }
 ],
 "metadata": {
  "kernelspec": {
   "display_name": "Python 3",
   "language": "python",
   "name": "python3"
  },
  "language_info": {
   "codemirror_mode": {
    "name": "ipython",
    "version": 3
   },
   "file_extension": ".py",
   "mimetype": "text/x-python",
   "name": "python",
   "nbconvert_exporter": "python",
   "pygments_lexer": "ipython3",
   "version": "3.8.6"
  }
 },
 "nbformat": 4,
 "nbformat_minor": 5
}
