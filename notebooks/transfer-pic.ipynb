{
 "cells": [
  {
   "cell_type": "markdown",
   "id": "011a43ff-b2ba-4ff6-a55d-4d24cecd46c5",
   "metadata": {},
   "source": [
    "## Transfer learning to recognise new pictures"
   ]
  },
  {
   "cell_type": "code",
   "execution_count": 1,
   "id": "028467c8-45e2-46b3-8aee-cd71f8b26aea",
   "metadata": {},
   "outputs": [
    {
     "data": {
      "text/plain": [
       "'2.4.1'"
      ]
     },
     "execution_count": 1,
     "metadata": {},
     "output_type": "execute_result"
    }
   ],
   "source": [
    "import logging\n",
    "import tensorflow as tf\n",
    "import keras\n",
    "\n",
    "logging.basicConfig(format='%(asctime)s : %(levelname)s : %(message)s', level=logging.INFO)\n",
    "log = logging.getLogger()\n",
    "\n",
    "%config Completer.use_jedi = False # make autocompletion works in jupyter\n",
    "\n",
    "tf.__version__"
   ]
  },
  {
   "cell_type": "code",
   "execution_count": 1,
   "id": "839ae21e-6eba-45f9-8e51-ca090780cb80",
   "metadata": {},
   "outputs": [],
   "source": [
    "import argparse \n",
    "\n",
    "args = argparse.Namespace()\n",
    "args.train_full_folder = './transfer-pic/'\n",
    "args.train_full_car_folder = args.train_full_folder + 'car/'\n",
    "args.train_full_no_car_folder = args.train_full_car_folder + 'no-car/'\n",
    "args.train_fraction = 0.8\n",
    "args.seed = 101\n",
    "args.batch_size = 32\n",
    "args.epochs = 1"
   ]
  },
  {
   "cell_type": "code",
   "execution_count": null,
   "id": "8fbb5b4b-fc4b-4763-afbe-d8b569d89e78",
   "metadata": {},
   "outputs": [],
   "source": [
    "def preprocess_images():\n",
    "    pass"
   ]
  },
  {
   "cell_type": "code",
   "execution_count": null,
   "id": "ce025d28-eb31-4821-af79-e09ead59e72b",
   "metadata": {},
   "outputs": [],
   "source": [
    "def build_model():\n",
    "        base_model = keras.applications.xception.Xception(weights=\"imagenet\", include_top=False)\n",
    "        avg = keras.layers.GlobalAveragePooling2D()(base_model.output)\n",
    "        output = keras.layers.Dense(10, activation='softmax')(avg)\n",
    "        model = keras.Model(inputs=base_model.input, outputs=output)\n",
    "        return base_model, model\n",
    "    \n",
    "    \n",
    "def train(base_model, model, train_data, val_data, train_base=False, epochs=5, lr=0.2):\n",
    "        for l in base_model.layers:\n",
    "            l.tranable = False\n",
    "        optimizer = keras.optimizers.SGD(lr=lr, momentum=0.9, decay=0.01)\n",
    "        model.compile(optimizer=optimizer, loss='crossentropy', metrics=['accuracy'])\n",
    "        print(model.summary())\n",
    "        history = model.fit(train_data, epochs=epochs, validation_data=val_data)\n",
    "        plot_history(history)"
   ]
  }
 ],
 "metadata": {
  "kernelspec": {
   "display_name": "Python 3",
   "language": "python",
   "name": "python3"
  },
  "language_info": {
   "codemirror_mode": {
    "name": "ipython",
    "version": 3
   },
   "file_extension": ".py",
   "mimetype": "text/x-python",
   "name": "python",
   "nbconvert_exporter": "python",
   "pygments_lexer": "ipython3",
   "version": "3.7.4"
  }
 },
 "nbformat": 4,
 "nbformat_minor": 5
}
