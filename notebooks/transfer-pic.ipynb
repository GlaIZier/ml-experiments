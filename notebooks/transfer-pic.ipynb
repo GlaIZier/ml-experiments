{
 "cells": [
  {
   "cell_type": "markdown",
   "id": "011a43ff-b2ba-4ff6-a55d-4d24cecd46c5",
   "metadata": {},
   "source": [
    "## Transfer learning to recognise new pictures"
   ]
  }
 ],
 "metadata": {
  "kernelspec": {
   "display_name": "Python 3",
   "language": "python",
   "name": "python3"
  },
  "language_info": {
   "codemirror_mode": {
    "name": "ipython",
    "version": 3
   },
   "file_extension": ".py",
   "mimetype": "text/x-python",
   "name": "python",
   "nbconvert_exporter": "python",
   "pygments_lexer": "ipython3",
   "version": "3.8.6"
  }
 },
 "nbformat": 4,
 "nbformat_minor": 5
}
