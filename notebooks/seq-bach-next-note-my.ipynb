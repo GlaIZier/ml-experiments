{
 "cells": [
  {
   "cell_type": "code",
   "execution_count": 1,
   "id": "bbe775a8-882e-4d5a-a72a-5fe5b3969cd1",
   "metadata": {},
   "outputs": [
    {
     "name": "stdout",
     "output_type": "stream",
     "text": [
      "[[66, 61, 57, 54], [66, 61, 57, 54], [68, 61, 59, 54], [68, 61, 59, 54], [69, 66, 61, 54], [69, 66, 61, 56], [69, 66, 61, 57], [69, 66, 61, 59], [68, 65, 61, 61], [68, 65, 61, 61], [68, 65, 59, 49], [68, 65, 59, 49], [66, 66, 57, 50], [66, 66, 57, 50], [66, 66, 57, 50], [66, 66, 57, 50], [66, 66, 59, 50], [66, 66, 59, 50], [68, 66, 59, 50], [68, 66, 59, 50], [69, 66, 61, 49], [69, 66, 61, 49], [69, 66, 61, 47], [69, 66, 61, 47], [68, 65, 61, 49], [68, 65, 61, 49], [68, 65, 59, 49], [68, 65, 59, 49], [66, 61, 57, 42], [66, 61, 57, 42], [66, 61, 57, 42], [66, 61, 57, 42], [73, 66, 57, 54], [73, 66, 57, 54], [73, 66, 57, 54], [73, 66, 57, 54], [71, 66, 59, 56], [71, 66, 59, 56], [71, 65, 59, 56], [71, 65, 59, 56], [69, 66, 61, 57], [69, 66, 61, 57], [69, 66, 61, 59], [69, 66, 61, 59], [68, 65, 61, 61], [68, 65, 61, 61], [68, 65, 61, 61], [68, 65, 61, 61], [68, 65, 61, 49], [68, 65, 61, 49], [68, 65, 61, 49], [68, 65, 61, 49], [69, 66, 61, 54], [69, 66, 61, 54], [69, 66, 61, 52], [69, 66, 61, 52], [69, 66, 62, 50], [69, 66, 62, 50], [69, 66, 62, 49], [69, 66, 62, 49], [71, 66, 62, 50], [71, 66, 62, 50], [71, 68, 64, 47], [71, 69, 66, 47], [71, 68, 64, 52], [71, 68, 64, 52], [71, 68, 62, 52], [71, 68, 62, 52], [73, 68, 61, 45], [73, 68, 61, 45], [73, 66, 61, 57], [73, 66, 61, 57], [73, 65, 59, 56], [73, 65, 59, 56], [73, 66, 57, 54], [73, 66, 57, 54], [71, 68, 62, 54], [71, 68, 62, 54], [71, 68, 61, 53], [71, 68, 61, 53], [69, 68, 61, 54], [69, 68, 61, 54], [69, 66, 62, 50], [69, 66, 62, 50], [68, 66, 62, 47], [68, 66, 62, 47], [68, 66, 59, 44], [68, 66, 59, 44], [68, 65, 56, 49], [68, 65, 56, 49], [68, 65, 59, 49], [68, 65, 59, 49], [66, 61, 57, 42], [66, 61, 57, 42], [66, 61, 57, 42], [66, 61, 57, 42], [73, 66, 57, 54], [73, 66, 57, 54], [73, 66, 57, 52], [73, 66, 57, 52], [71, 66, 59, 50], [71, 66, 59, 50], [71, 65, 61, 49], [71, 65, 61, 49], [69, 66, 63, 48], [69, 66, 63, 48], [68, 66, 63, 48], [68, 66, 63, 48], [68, 65, 61, 49], [68, 65, 61, 49], [68, 65, 61, 49], [68, 65, 61, 49], [73, 66, 61, 45], [73, 66, 61, 45], [73, 64, 61, 45], [73, 64, 61, 45], [71, 63, 54, 47], [71, 63, 54, 47], [71, 64, 54, 49], [71, 64, 54, 49], [69, 66, 59, 51], [69, 66, 59, 51], [69, 63, 59, 47], [69, 63, 59, 47], [68, 64, 59, 52], [68, 64, 59, 52], [68, 64, 59, 52], [68, 64, 59, 52], [68, 68, 61, 53], [68, 68, 61, 53], [68, 65, 61, 49], [68, 65, 61, 49], [69, 66, 61, 54], [69, 66, 61, 54], [69, 66, 57, 54], [69, 66, 57, 54], [69, 69, 62, 54], [69, 69, 62, 54], [69, 66, 62, 50], [69, 66, 62, 50], [71, 62, 62, 56], [71, 62, 62, 56], [71, 62, 59, 56], [71, 62, 59, 56], [71, 71, 64, 56], [71, 71, 64, 56], [71, 68, 64, 52], [71, 68, 64, 52], [73, 69, 64, 57], [73, 69, 64, 57], [73, 67, 61, 57], [73, 67, 61, 57], [73, 66, 66, 58], [73, 66, 66, 58], [73, 66, 64, 54], [73, 66, 64, 54], [71, 66, 62, 59], [71, 66, 62, 59], [71, 65, 61, 59], [71, 65, 61, 59], [69, 66, 63, 60], [69, 66, 63, 60], [68, 66, 63, 56], [68, 66, 63, 56], [68, 66, 61, 61], [68, 66, 61, 61], [68, 65, 56, 61], [68, 63, 56, 61], [68, 65, 61, 49], [68, 65, 61, 49], [68, 65, 59, 49], [68, 65, 59, 49], [66, 61, 57, 54], [66, 61, 57, 54], [66, 61, 57, 54], [66, 61, 57, 54], [66, 61, 57, 54], [66, 61, 57, 54], [66, 61, 57, 54], [66, 61, 57, 54]]\n"
     ]
    }
   ],
   "source": [
    "import logging\n",
    "import tensorflow as tf\n",
    "from tensorflow import keras\n",
    "import matplotlib.pyplot as plt\n",
    "import numpy as np\n",
    "import pandas as pd\n",
    "import argparse \n",
    "from pathlib import Path\n",
    "\n",
    "\n",
    "logging.basicConfig(format='%(asctime)s : %(levelname)s : %(message)s', level=logging.INFO)\n",
    "log = logging.getLogger()\n",
    "\n",
    "%config Completer.use_jedi = False # make autocompletion works in jupyter\n",
    "\n",
    "args = argparse.Namespace()\n",
    "args.data_folder = './data/bach-next-note/'\n",
    "args.train_folder = args.data_folder + 'train/'\n",
    "args.val_folder = args.data_folder + 'valid/'\n",
    "args.test_folder = args.data_folder + 'test/'\n",
    "# args.train_fraction = 0.8\n",
    "args.seed = 101\n",
    "args.batch_size = 32\n",
    "args.epochs = 7\n",
    "\n",
    "paths = Path(args.train_folder).glob('**/chorale_*.csv')\n",
    "train_np_list = [pd.read_csv(p).values.tolist() for p in paths]\n",
    "# print(len(train_np_list[0]))\n",
    "\n",
    "paths = Path(args.val_folder).glob('**/chorale_*.csv')\n",
    "val_np_list = [pd.read_csv(p).values.tolist() for p in paths]\n",
    "\n",
    "paths = Path(args.test_folder).glob('**/chorale_*.csv')\n",
    "test_np_list = [pd.read_csv(p).values.tolist() for p in paths]\n",
    "\n",
    "print(train_np_list[0])"
   ]
  },
  {
   "cell_type": "markdown",
   "id": "53acf44d-d366-4557-bfeb-b38904f7c425",
   "metadata": {},
   "source": [
    " ### Baseline"
   ]
  },
  {
   "cell_type": "code",
   "execution_count": 8,
   "id": "465411bb-5f82-4054-92ea-37eaf0b497a3",
   "metadata": {},
   "outputs": [
    {
     "name": "stdout",
     "output_type": "stream",
     "text": [
      "100\n",
      "128\n",
      "128\n",
      "Epoch 1/7\n",
      "8/8 [==============================] - 1s 33ms/step - loss: 4880.2749 - mean_squared_error: 4880.2749 - val_loss: 4915.0161 - val_mean_squared_error: 4915.0161\n",
      "Epoch 2/7\n",
      "8/8 [==============================] - 0s 14ms/step - loss: 4880.2749 - mean_squared_error: 4880.2749 - val_loss: 4914.9492 - val_mean_squared_error: 4914.9492\n",
      "Epoch 3/7\n",
      "8/8 [==============================] - 0s 14ms/step - loss: 4880.2749 - mean_squared_error: 4880.2749 - val_loss: 4914.9155 - val_mean_squared_error: 4914.9155\n",
      "Epoch 4/7\n",
      "8/8 [==============================] - 0s 14ms/step - loss: 4880.2749 - mean_squared_error: 4880.2749 - val_loss: 4914.8994 - val_mean_squared_error: 4914.8994\n",
      "Epoch 5/7\n",
      "8/8 [==============================] - 0s 16ms/step - loss: 4880.2749 - mean_squared_error: 4880.2749 - val_loss: 4914.8916 - val_mean_squared_error: 4914.8916\n",
      "Epoch 6/7\n",
      "8/8 [==============================] - 0s 14ms/step - loss: 4880.2749 - mean_squared_error: 4880.2749 - val_loss: 4914.8877 - val_mean_squared_error: 4914.8877\n",
      "Epoch 7/7\n",
      "8/8 [==============================] - 0s 15ms/step - loss: 4880.2749 - mean_squared_error: 4880.2749 - val_loss: 4914.8862 - val_mean_squared_error: 4914.8862\n",
      "Epoch 1/7\n",
      "8/8 [==============================] - 2s 69ms/step - loss: 4976.6343 - mean_squared_error: 4976.6343 - val_loss: 4922.1362 - val_mean_squared_error: 4922.1362\n",
      "Epoch 2/7\n",
      "8/8 [==============================] - 0s 34ms/step - loss: 4881.4775 - mean_squared_error: 4881.4775 - val_loss: 4920.8213 - val_mean_squared_error: 4920.8213\n",
      "Epoch 3/7\n",
      "8/8 [==============================] - 0s 35ms/step - loss: 4880.3804 - mean_squared_error: 4880.3804 - val_loss: 4920.8369 - val_mean_squared_error: 4920.8369\n",
      "Epoch 4/7\n",
      "8/8 [==============================] - 0s 34ms/step - loss: 4880.3340 - mean_squared_error: 4880.3340 - val_loss: 4920.8369 - val_mean_squared_error: 4920.8369\n",
      "Epoch 5/7\n",
      "8/8 [==============================] - 0s 34ms/step - loss: 4880.3198 - mean_squared_error: 4880.3198 - val_loss: 4920.8438 - val_mean_squared_error: 4920.8438\n",
      "Epoch 6/7\n",
      "8/8 [==============================] - 0s 35ms/step - loss: 4880.3130 - mean_squared_error: 4880.3130 - val_loss: 4920.8618 - val_mean_squared_error: 4920.8618\n",
      "Epoch 7/7\n",
      "8/8 [==============================] - 0s 33ms/step - loss: 4880.3086 - mean_squared_error: 4880.3086 - val_loss: 4920.8921 - val_mean_squared_error: 4920.8921\n"
     ]
    }
   ],
   "source": [
    "def baseline():\n",
    "    def build_dataset_baseline(chorales):\n",
    "        min_len = len(min(chorales, key=len))\n",
    "        print(min_len)\n",
    "\n",
    "        def reshape(chorale):\n",
    "            chorale = tf.reshape(chorale.to_tensor(), [-1, 1])\n",
    "            return chorale\n",
    "        def trunc(chorale):\n",
    "            return chorale[:min_len+1]\n",
    "\n",
    "        def target(chorale):\n",
    "            X = chorale[:-1]\n",
    "            Y = chorale[-1]\n",
    "            return X, Y\n",
    "\n",
    "        ragged_chorales = tf.ragged.constant(chorales)\n",
    "        dataset = tf.data.Dataset.from_tensor_slices(ragged_chorales)\n",
    "        dataset = dataset.map(reshape)\n",
    "        dataset = dataset.map(trunc)\n",
    "        dataset = dataset.map(target)\n",
    "        dataset = dataset.batch(32)\n",
    "    #     for d in dataset:\n",
    "    #         tf.print(d)\n",
    "    #         break\n",
    "        return dataset\n",
    "\n",
    "\n",
    "    train_dataset = build_dataset_baseline(train_np_list)\n",
    "    val_dataset = build_dataset_baseline(val_np_list)\n",
    "    test_dataset = build_dataset_baseline(test_np_list)\n",
    "    model = keras.models.Sequential([\n",
    "        keras.layers.SimpleRNN(1, input_shape=[None, 1])\n",
    "    ])\n",
    "    model.compile(loss='mse',\n",
    "                 optimizer=keras.optimizers.Nadam(learning_rate=0.01),\n",
    "                 metrics=[keras.metrics.mean_squared_error])\n",
    "    model.fit(train_dataset, epochs=args.epochs, validation_data=val_dataset)\n",
    "    \n",
    "    model = keras.models.Sequential([\n",
    "        keras.layers.SimpleRNN(20, return_sequences=True, input_shape=[None, 1]),\n",
    "        keras.layers.SimpleRNN(20, return_sequences=True),\n",
    "        keras.layers.SimpleRNN(1),\n",
    "    ])\n",
    "    model.compile(loss='mse',\n",
    "                 optimizer=keras.optimizers.Nadam(learning_rate=0.01),\n",
    "                 metrics=[keras.metrics.mean_squared_error])\n",
    "    model.fit(train_dataset, epochs=args.epochs, validation_data=val_dataset)\n",
    "    \n",
    "baseline()"
   ]
  },
  {
   "cell_type": "markdown",
   "id": "7f5e8137-84c9-4702-ab83-1950f4fce695",
   "metadata": {},
   "source": [
    "### Sparse categorical entropy"
   ]
  }
 ],
 "metadata": {
  "kernelspec": {
   "display_name": "Python 3 (ipykernel)",
   "language": "python",
   "name": "python3"
  },
  "language_info": {
   "codemirror_mode": {
    "name": "ipython",
    "version": 3
   },
   "file_extension": ".py",
   "mimetype": "text/x-python",
   "name": "python",
   "nbconvert_exporter": "python",
   "pygments_lexer": "ipython3",
   "version": "3.8.6"
  }
 },
 "nbformat": 4,
 "nbformat_minor": 5
}
