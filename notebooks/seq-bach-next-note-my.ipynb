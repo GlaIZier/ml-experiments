{
 "cells": [
  {
   "cell_type": "code",
   "execution_count": 1,
   "id": "bbe775a8-882e-4d5a-a72a-5fe5b3969cd1",
   "metadata": {},
   "outputs": [
    {
     "name": "stdout",
     "output_type": "stream",
     "text": [
      "[[66, 61, 57, 54], [66, 61, 57, 54], [68, 61, 59, 54], [68, 61, 59, 54], [69, 66, 61, 54], [69, 66, 61, 56], [69, 66, 61, 57], [69, 66, 61, 59], [68, 65, 61, 61], [68, 65, 61, 61], [68, 65, 59, 49], [68, 65, 59, 49], [66, 66, 57, 50], [66, 66, 57, 50], [66, 66, 57, 50], [66, 66, 57, 50], [66, 66, 59, 50], [66, 66, 59, 50], [68, 66, 59, 50], [68, 66, 59, 50], [69, 66, 61, 49], [69, 66, 61, 49], [69, 66, 61, 47], [69, 66, 61, 47], [68, 65, 61, 49], [68, 65, 61, 49], [68, 65, 59, 49], [68, 65, 59, 49], [66, 61, 57, 42], [66, 61, 57, 42], [66, 61, 57, 42], [66, 61, 57, 42], [73, 66, 57, 54], [73, 66, 57, 54], [73, 66, 57, 54], [73, 66, 57, 54], [71, 66, 59, 56], [71, 66, 59, 56], [71, 65, 59, 56], [71, 65, 59, 56], [69, 66, 61, 57], [69, 66, 61, 57], [69, 66, 61, 59], [69, 66, 61, 59], [68, 65, 61, 61], [68, 65, 61, 61], [68, 65, 61, 61], [68, 65, 61, 61], [68, 65, 61, 49], [68, 65, 61, 49], [68, 65, 61, 49], [68, 65, 61, 49], [69, 66, 61, 54], [69, 66, 61, 54], [69, 66, 61, 52], [69, 66, 61, 52], [69, 66, 62, 50], [69, 66, 62, 50], [69, 66, 62, 49], [69, 66, 62, 49], [71, 66, 62, 50], [71, 66, 62, 50], [71, 68, 64, 47], [71, 69, 66, 47], [71, 68, 64, 52], [71, 68, 64, 52], [71, 68, 62, 52], [71, 68, 62, 52], [73, 68, 61, 45], [73, 68, 61, 45], [73, 66, 61, 57], [73, 66, 61, 57], [73, 65, 59, 56], [73, 65, 59, 56], [73, 66, 57, 54], [73, 66, 57, 54], [71, 68, 62, 54], [71, 68, 62, 54], [71, 68, 61, 53], [71, 68, 61, 53], [69, 68, 61, 54], [69, 68, 61, 54], [69, 66, 62, 50], [69, 66, 62, 50], [68, 66, 62, 47], [68, 66, 62, 47], [68, 66, 59, 44], [68, 66, 59, 44], [68, 65, 56, 49], [68, 65, 56, 49], [68, 65, 59, 49], [68, 65, 59, 49], [66, 61, 57, 42], [66, 61, 57, 42], [66, 61, 57, 42], [66, 61, 57, 42], [73, 66, 57, 54], [73, 66, 57, 54], [73, 66, 57, 52], [73, 66, 57, 52], [71, 66, 59, 50], [71, 66, 59, 50], [71, 65, 61, 49], [71, 65, 61, 49], [69, 66, 63, 48], [69, 66, 63, 48], [68, 66, 63, 48], [68, 66, 63, 48], [68, 65, 61, 49], [68, 65, 61, 49], [68, 65, 61, 49], [68, 65, 61, 49], [73, 66, 61, 45], [73, 66, 61, 45], [73, 64, 61, 45], [73, 64, 61, 45], [71, 63, 54, 47], [71, 63, 54, 47], [71, 64, 54, 49], [71, 64, 54, 49], [69, 66, 59, 51], [69, 66, 59, 51], [69, 63, 59, 47], [69, 63, 59, 47], [68, 64, 59, 52], [68, 64, 59, 52], [68, 64, 59, 52], [68, 64, 59, 52], [68, 68, 61, 53], [68, 68, 61, 53], [68, 65, 61, 49], [68, 65, 61, 49], [69, 66, 61, 54], [69, 66, 61, 54], [69, 66, 57, 54], [69, 66, 57, 54], [69, 69, 62, 54], [69, 69, 62, 54], [69, 66, 62, 50], [69, 66, 62, 50], [71, 62, 62, 56], [71, 62, 62, 56], [71, 62, 59, 56], [71, 62, 59, 56], [71, 71, 64, 56], [71, 71, 64, 56], [71, 68, 64, 52], [71, 68, 64, 52], [73, 69, 64, 57], [73, 69, 64, 57], [73, 67, 61, 57], [73, 67, 61, 57], [73, 66, 66, 58], [73, 66, 66, 58], [73, 66, 64, 54], [73, 66, 64, 54], [71, 66, 62, 59], [71, 66, 62, 59], [71, 65, 61, 59], [71, 65, 61, 59], [69, 66, 63, 60], [69, 66, 63, 60], [68, 66, 63, 56], [68, 66, 63, 56], [68, 66, 61, 61], [68, 66, 61, 61], [68, 65, 56, 61], [68, 63, 56, 61], [68, 65, 61, 49], [68, 65, 61, 49], [68, 65, 59, 49], [68, 65, 59, 49], [66, 61, 57, 54], [66, 61, 57, 54], [66, 61, 57, 54], [66, 61, 57, 54], [66, 61, 57, 54], [66, 61, 57, 54], [66, 61, 57, 54], [66, 61, 57, 54]]\n"
     ]
    }
   ],
   "source": [
    "import logging\n",
    "import tensorflow as tf\n",
    "from tensorflow import keras\n",
    "import matplotlib.pyplot as plt\n",
    "import numpy as np\n",
    "import pandas as pd\n",
    "import argparse \n",
    "from pathlib import Path\n",
    "\n",
    "\n",
    "logging.basicConfig(format='%(asctime)s : %(levelname)s : %(message)s', level=logging.INFO)\n",
    "log = logging.getLogger()\n",
    "\n",
    "%config Completer.use_jedi = False # make autocompletion works in jupyter\n",
    "\n",
    "args = argparse.Namespace()\n",
    "args.data_folder = './data/bach-next-note/'\n",
    "args.train_folder = args.data_folder + 'train/'\n",
    "args.val_folder = args.data_folder + 'valid/'\n",
    "args.test_folder = args.data_folder + 'test/'\n",
    "# args.train_fraction = 0.8\n",
    "args.seed = 101\n",
    "args.batch_size = 32\n",
    "args.epochs = 7\n",
    "\n",
    "paths = Path(args.train_folder).glob('**/chorale_*.csv')\n",
    "train_np_list = [pd.read_csv(p).values.tolist() for p in paths]\n",
    "# print(len(train_np_list[0]))\n",
    "\n",
    "paths = Path(args.val_folder).glob('**/chorale_*.csv')\n",
    "val_np_list = [pd.read_csv(p).values.tolist() for p in paths]\n",
    "\n",
    "paths = Path(args.test_folder).glob('**/chorale_*.csv')\n",
    "test_np_list = [pd.read_csv(p).values.tolist() for p in paths]\n",
    "\n",
    "print(train_np_list[0])"
   ]
  },
  {
   "cell_type": "markdown",
   "id": "53acf44d-d366-4557-bfeb-b38904f7c425",
   "metadata": {},
   "source": [
    " ### Baseline"
   ]
  },
  {
   "cell_type": "code",
   "execution_count": 2,
   "id": "465411bb-5f82-4054-92ea-37eaf0b497a3",
   "metadata": {},
   "outputs": [
    {
     "name": "stdout",
     "output_type": "stream",
     "text": [
      "100\n"
     ]
    },
    {
     "name": "stderr",
     "output_type": "stream",
     "text": [
      "2021-09-27 21:57:17.374522: I tensorflow/core/platform/cpu_feature_guard.cc:142] This TensorFlow binary is optimized with oneAPI Deep Neural Network Library (oneDNN) to use the following CPU instructions in performance-critical operations:  AVX2 FMA\n",
      "To enable them in other operations, rebuild TensorFlow with the appropriate compiler flags.\n"
     ]
    },
    {
     "name": "stdout",
     "output_type": "stream",
     "text": [
      "128\n",
      "128\n",
      "100\n"
     ]
    },
    {
     "data": {
      "text/plain": [
       "<BatchDataset shapes: ((None, None, 1), (None, 1)), types: (tf.int32, tf.int32)>"
      ]
     },
     "execution_count": 2,
     "metadata": {},
     "output_type": "execute_result"
    }
   ],
   "source": [
    "def build_dataset(chorales):\n",
    "    min_len = len(min(chorales, key=len))\n",
    "    print(min_len)\n",
    "    \n",
    "    def reshape(chorale):\n",
    "        chorale = tf.reshape(chorale.to_tensor(), [-1, 1])\n",
    "        return chorale\n",
    "    def trunc(chorale):\n",
    "        return chorale[:min_len+1]\n",
    "        \n",
    "    def target(chorale):\n",
    "        X = chorale[:-1]\n",
    "        Y = chorale[-1]\n",
    "        return X, Y\n",
    "    \n",
    "    ragged_chorales = tf.ragged.constant(chorales)\n",
    "    dataset = tf.data.Dataset.from_tensor_slices(ragged_chorales)\n",
    "    dataset = dataset.map(reshape)\n",
    "    dataset = dataset.map(trunc)\n",
    "    dataset = dataset.map(target)\n",
    "    dataset = dataset.batch(32)\n",
    "#     for d in dataset:\n",
    "#         tf.print(d)\n",
    "#         break\n",
    "    return dataset\n",
    "\n",
    "        \n",
    "train_dataset = build_dataset(train_np_list)\n",
    "val_dataset = build_dataset(val_np_list)\n",
    "test_dataset = build_dataset(test_np_list)\n",
    "build_dataset(train_np_list)"
   ]
  },
  {
   "cell_type": "code",
   "execution_count": 3,
   "id": "f70babba-6d05-4022-a799-d153f728f47a",
   "metadata": {},
   "outputs": [
    {
     "name": "stderr",
     "output_type": "stream",
     "text": [
      "2021-09-27 21:57:18.597405: I tensorflow/compiler/mlir/mlir_graph_optimization_pass.cc:176] None of the MLIR Optimization Passes are enabled (registered 2)\n"
     ]
    },
    {
     "name": "stdout",
     "output_type": "stream",
     "text": [
      "Epoch 1/7\n",
      "8/8 [==============================] - 1s 33ms/step - loss: 4880.2749 - mean_squared_error: 4880.2749 - val_loss: 4915.2383 - val_mean_squared_error: 4915.2383\n",
      "Epoch 2/7\n",
      "8/8 [==============================] - 0s 14ms/step - loss: 4880.2749 - mean_squared_error: 4880.2749 - val_loss: 4915.2383 - val_mean_squared_error: 4915.2383\n",
      "Epoch 3/7\n",
      "8/8 [==============================] - 0s 13ms/step - loss: 4880.2749 - mean_squared_error: 4880.2749 - val_loss: 4915.2383 - val_mean_squared_error: 4915.2383\n",
      "Epoch 4/7\n",
      "8/8 [==============================] - 0s 14ms/step - loss: 4880.2749 - mean_squared_error: 4880.2749 - val_loss: 4915.2383 - val_mean_squared_error: 4915.2383\n",
      "Epoch 5/7\n",
      "8/8 [==============================] - 0s 13ms/step - loss: 4880.2749 - mean_squared_error: 4880.2749 - val_loss: 4915.2383 - val_mean_squared_error: 4915.2383\n",
      "Epoch 6/7\n",
      "8/8 [==============================] - 0s 14ms/step - loss: 4880.2749 - mean_squared_error: 4880.2749 - val_loss: 4915.2383 - val_mean_squared_error: 4915.2383\n",
      "Epoch 7/7\n",
      "8/8 [==============================] - 0s 13ms/step - loss: 4880.2749 - mean_squared_error: 4880.2749 - val_loss: 4915.2383 - val_mean_squared_error: 4915.2383\n"
     ]
    },
    {
     "data": {
      "text/plain": [
       "<tensorflow.python.keras.callbacks.History at 0x15b4b4460>"
      ]
     },
     "execution_count": 3,
     "metadata": {},
     "output_type": "execute_result"
    }
   ],
   "source": [
    "model = keras.models.Sequential([\n",
    "    keras.layers.SimpleRNN(1, input_shape=[None, 1])\n",
    "])\n",
    "model.compile(loss='mse',\n",
    "             optimizer=keras.optimizers.Nadam(learning_rate=0.01),\n",
    "             metrics=[keras.metrics.mean_squared_error])\n",
    "model.fit(train_dataset, epochs=args.epochs, validation_data=val_dataset)"
   ]
  },
  {
   "cell_type": "code",
   "execution_count": 4,
   "id": "c0da6d24-7a43-458d-8bd7-a7966f817df5",
   "metadata": {},
   "outputs": [
    {
     "name": "stdout",
     "output_type": "stream",
     "text": [
      "Epoch 1/7\n",
      "8/8 [==============================] - 2s 70ms/step - loss: 4900.1069 - mean_squared_error: 4900.1069 - val_loss: 4916.2271 - val_mean_squared_error: 4916.2271\n",
      "Epoch 2/7\n",
      "8/8 [==============================] - 0s 35ms/step - loss: 4880.3799 - mean_squared_error: 4880.3799 - val_loss: 4916.3799 - val_mean_squared_error: 4916.3794\n",
      "Epoch 3/7\n",
      "8/8 [==============================] - 0s 34ms/step - loss: 4880.3086 - mean_squared_error: 4880.3086 - val_loss: 4916.4648 - val_mean_squared_error: 4916.4648\n",
      "Epoch 4/7\n",
      "8/8 [==============================] - 0s 35ms/step - loss: 4880.2954 - mean_squared_error: 4880.2954 - val_loss: 4916.5229 - val_mean_squared_error: 4916.5229\n",
      "Epoch 5/7\n",
      "8/8 [==============================] - 0s 34ms/step - loss: 4880.2905 - mean_squared_error: 4880.2905 - val_loss: 4916.5532 - val_mean_squared_error: 4916.5532\n",
      "Epoch 6/7\n",
      "8/8 [==============================] - 0s 33ms/step - loss: 4880.2876 - mean_squared_error: 4880.2876 - val_loss: 4916.5684 - val_mean_squared_error: 4916.5684\n",
      "Epoch 7/7\n",
      "8/8 [==============================] - 0s 35ms/step - loss: 4880.2866 - mean_squared_error: 4880.2866 - val_loss: 4916.5757 - val_mean_squared_error: 4916.5757\n"
     ]
    },
    {
     "data": {
      "text/plain": [
       "<tensorflow.python.keras.callbacks.History at 0x15c3ce190>"
      ]
     },
     "execution_count": 4,
     "metadata": {},
     "output_type": "execute_result"
    }
   ],
   "source": [
    "model = keras.models.Sequential([\n",
    "    keras.layers.SimpleRNN(20, return_sequences=True, input_shape=[None, 1]),\n",
    "    keras.layers.SimpleRNN(20, return_sequences=True),\n",
    "    keras.layers.SimpleRNN(1),\n",
    "])\n",
    "model.compile(loss='mse',\n",
    "             optimizer=keras.optimizers.Nadam(learning_rate=0.01),\n",
    "             metrics=[keras.metrics.mean_squared_error])\n",
    "model.fit(train_dataset, epochs=args.epochs, validation_data=val_dataset)"
   ]
  }
 ],
 "metadata": {
  "kernelspec": {
   "display_name": "Python 3 (ipykernel)",
   "language": "python",
   "name": "python3"
  },
  "language_info": {
   "codemirror_mode": {
    "name": "ipython",
    "version": 3
   },
   "file_extension": ".py",
   "mimetype": "text/x-python",
   "name": "python",
   "nbconvert_exporter": "python",
   "pygments_lexer": "ipython3",
   "version": "3.8.6"
  }
 },
 "nbformat": 4,
 "nbformat_minor": 5
}
