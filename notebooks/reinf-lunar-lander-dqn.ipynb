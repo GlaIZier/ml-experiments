{
 "cells": [
  {
   "cell_type": "raw",
   "id": "617930f5-4dda-48b1-9b2d-52590d34dd45",
   "metadata": {},
   "source": [
    "8. Reinf learning. Exercise: Use dqn instead of policy gradients to solve OpenAI Gym's LunarLander-v2 environment. You will need to install the Box2D dependencies (%pip install -U gym[box2d]). hands-on-ml book exerices page 623"
   ]
  },
  {
   "cell_type": "code",
   "execution_count": 1,
   "id": "6023300c-79ca-4502-ba41-cf810d2f81f5",
   "metadata": {},
   "outputs": [
    {
     "data": {
      "text/plain": [
       "((8,), 4)"
      ]
     },
     "execution_count": 1,
     "metadata": {},
     "output_type": "execute_result"
    }
   ],
   "source": [
    "import numpy as np\n",
    "import gym\n",
    "env = gym.make(\"LunarLander-v2\")\n",
    "input_shape = env.observation_space.shape\n",
    "n_outputs = env.action_space.n\n",
    "input_shape, n_outputs"
   ]
  },
  {
   "cell_type": "code",
   "execution_count": 2,
   "id": "862954d1-bece-4bb7-a32a-87e56b61c0c1",
   "metadata": {},
   "outputs": [
    {
     "name": "stderr",
     "output_type": "stream",
     "text": [
      "/Users/mkhokhlush/github/ml-experiments/.venv/lib/python3.8/site-packages/flatbuffers/compat.py:19: DeprecationWarning: the imp module is deprecated in favour of importlib; see the module's documentation for alternative uses\n",
      "  import imp\n",
      "/Users/mkhokhlush/github/ml-experiments/.venv/lib/python3.8/site-packages/keras_preprocessing/image/utils.py:23: DeprecationWarning: NEAREST is deprecated and will be removed in Pillow 10 (2023-07-01). Use Resampling.NEAREST or Dither.NONE instead.\n",
      "  'nearest': pil_image.NEAREST,\n",
      "/Users/mkhokhlush/github/ml-experiments/.venv/lib/python3.8/site-packages/keras_preprocessing/image/utils.py:24: DeprecationWarning: BILINEAR is deprecated and will be removed in Pillow 10 (2023-07-01). Use Resampling.BILINEAR instead.\n",
      "  'bilinear': pil_image.BILINEAR,\n",
      "/Users/mkhokhlush/github/ml-experiments/.venv/lib/python3.8/site-packages/keras_preprocessing/image/utils.py:25: DeprecationWarning: BICUBIC is deprecated and will be removed in Pillow 10 (2023-07-01). Use Resampling.BICUBIC instead.\n",
      "  'bicubic': pil_image.BICUBIC,\n",
      "/Users/mkhokhlush/github/ml-experiments/.venv/lib/python3.8/site-packages/keras_preprocessing/image/utils.py:28: DeprecationWarning: HAMMING is deprecated and will be removed in Pillow 10 (2023-07-01). Use Resampling.HAMMING instead.\n",
      "  if hasattr(pil_image, 'HAMMING'):\n",
      "/Users/mkhokhlush/github/ml-experiments/.venv/lib/python3.8/site-packages/keras_preprocessing/image/utils.py:30: DeprecationWarning: BOX is deprecated and will be removed in Pillow 10 (2023-07-01). Use Resampling.BOX instead.\n",
      "  if hasattr(pil_image, 'BOX'):\n",
      "/Users/mkhokhlush/github/ml-experiments/.venv/lib/python3.8/site-packages/keras_preprocessing/image/utils.py:33: DeprecationWarning: LANCZOS is deprecated and will be removed in Pillow 10 (2023-07-01). Use Resampling.LANCZOS instead.\n",
      "  if hasattr(pil_image, 'LANCZOS'):\n"
     ]
    },
    {
     "name": "stdout",
     "output_type": "stream",
     "text": [
      "[[-0.00320034  1.4193654  -0.32416955  0.3753457   0.00371514  0.07342918\n",
      "   0.          0.        ]]\n",
      "4\n"
     ]
    },
    {
     "name": "stderr",
     "output_type": "stream",
     "text": [
      "2022-05-31 16:53:36.404729: I tensorflow/core/platform/cpu_feature_guard.cc:151] This TensorFlow binary is optimized with oneAPI Deep Neural Network Library (oneDNN) to use the following CPU instructions in performance-critical operations:  AVX2 FMA\n",
      "To enable them in other operations, rebuild TensorFlow with the appropriate compiler flags.\n"
     ]
    },
    {
     "data": {
      "text/plain": [
       "<tf.Tensor: shape=(1, 4), dtype=float32, numpy=\n",
       "array([[ 0.05519158, -0.11842845, -0.16549264, -0.08576449]],\n",
       "      dtype=float32)>"
      ]
     },
     "execution_count": 2,
     "metadata": {},
     "output_type": "execute_result"
    }
   ],
   "source": [
    "import tensorflow as tf\n",
    "from tensorflow import keras\n",
    "\n",
    "# model that predicts Q-value for each action according to an input state\n",
    "print(env.reset()[np.newaxis, :])\n",
    "print(env.action_space.n)\n",
    "model = keras.models.Sequential()\n",
    "model.add(keras.layers.InputLayer(input_shape=input_shape))\n",
    "model.add(keras.layers.Dense(64, activation='relu'))\n",
    "model.add(keras.layers.Dense(32, activation='relu'))\n",
    "model.add(keras.layers.Dense(n_outputs))\n",
    "model(env.reset()[np.newaxis, :])"
   ]
  },
  {
   "cell_type": "code",
   "execution_count": 3,
   "id": "c0bb936b-f686-4b1a-835e-9c24d493fe1d",
   "metadata": {},
   "outputs": [
    {
     "data": {
      "text/plain": [
       "0"
      ]
     },
     "execution_count": 3,
     "metadata": {},
     "output_type": "execute_result"
    }
   ],
   "source": [
    "def epsilon_greedy_policy(state, epsilon=0):\n",
    "    if np.random.rand() < epsilon:\n",
    "        return np.random.randint(n_outputs)\n",
    "    else:\n",
    "        Q_values = model.predict(state[np.newaxis, :])\n",
    "        return np.argmax(Q_values[0])\n",
    "epsilon_greedy_policy(env.reset())"
   ]
  },
  {
   "cell_type": "code",
   "execution_count": 4,
   "id": "0d1784e9-ddfb-4a93-adca-138e5db2344f",
   "metadata": {},
   "outputs": [],
   "source": [
    "from collections import deque\n",
    "\n",
    "# el: state, action, reward, next_state, done\n",
    "replay_buffer = deque(maxlen=2000)\n",
    "\n",
    "def sample_experiences(batch_size):\n",
    "    indices = np.random.randint(len(replay_buffer), size=batch_size)\n",
    "    experiences = [replay_buffer[index] for index in indices]\n",
    "    states, actions, rewards, next_states, dones = [np.array([exp[col] for exp in experiences]) for col in range(5)]\n",
    "    return states, actions, rewards, next_states, dones\n",
    "\n",
    "# replay_buffer = [[0, 1, 2, 3, 4], [5, 6, 7, 8, 9], [10, 11, 12, 13, 14]]\n",
    "# sample_experiences(2)"
   ]
  },
  {
   "cell_type": "code",
   "execution_count": 5,
   "id": "df7dd7e9-df7f-42d8-897d-b10a76c47d37",
   "metadata": {},
   "outputs": [],
   "source": [
    "def play_one_step(env, state, epsilon):\n",
    "    action = epsilon_greedy_policy(state, epsilon)\n",
    "    obs, reward, done, info = env.step(action)\n",
    "    replay_buffer.append((state, action, reward, obs, done))\n",
    "    return obs, reward, done, info"
   ]
  },
  {
   "cell_type": "code",
   "execution_count": 6,
   "id": "0377a723-767f-42ce-90d4-7bb1e1bb5af3",
   "metadata": {},
   "outputs": [
    {
     "name": "stderr",
     "output_type": "stream",
     "text": [
      " 18%|████████████████████████                                                                                                                | 133/750 [00:50<03:54,  2.63it/s]\n",
      "\n",
      "KeyboardInterrupt\n",
      "\n"
     ]
    }
   ],
   "source": [
    "# training\n",
    "from tqdm import tqdm\n",
    "import matplotlib.pyplot as plt\n",
    "\n",
    "batch_size = 32\n",
    "discount_factor = 0.97\n",
    "optimizer = keras.optimizers.Adam(0.001)\n",
    "loss_fn = keras.losses.mean_squared_error\n",
    "n_episodes = 750\n",
    "n_steps = 200\n",
    "\n",
    "def training_step(batch_size):\n",
    "    states, actions, rewards, next_states, dones = sample_experiences(batch_size)\n",
    "    next_Q_values = model.predict(next_states)\n",
    "    max_next_Q_values = tf.reduce_max(next_Q_values, axis=1) # agent plays optimally => store only max values\n",
    "    target_Q_values = rewards + (1 - dones) * discount_factor * max_next_Q_values\n",
    "    mask = tf.one_hot(actions, n_outputs) \n",
    "    with tf.GradientTape() as tape:\n",
    "        all_Q_values = model(states)\n",
    "        Q_values = tf.reduce_sum(mask * all_Q_values, axis=1, keepdims=True) # mask out q values for actions that were not chosen \n",
    "        loss = tf.reduce_mean(loss_fn(Q_values, target_Q_values))\n",
    "    grads = tape.gradient(loss, model.trainable_variables)\n",
    "    optimizer.apply_gradients(zip(grads, model.trainable_variables))\n",
    "\n",
    "def train():\n",
    "    episode_rewards = []\n",
    "    for episode in tqdm(range(n_episodes)):\n",
    "        obs = env.reset()\n",
    "        step_reward = 0\n",
    "        for step in range(n_steps):\n",
    "            eps = max(1 - episode / 500, 0.01)\n",
    "            obs, reward, done, info = play_one_step(env, obs, eps)\n",
    "            step_reward += reward\n",
    "            if done:\n",
    "                break\n",
    "        episode_rewards.append(step_reward)\n",
    "        if episode > 50:\n",
    "            training_step(batch_size)\n",
    "    return episode_rewards\n",
    "episode_rewards = train()\n",
    "print(np.mean(episode_rewards), np.std(episode_rewards), np.min(episode_rewards), np.max(episode_rewards))\n",
    "# -359.2941391120138 219.35082075916458 -1486.1583193369427 98.2295202449274 lr = 0.001\n",
    "# -357.13935431215975 190.29114724718954 -1341.4294567761463 18.40714374846098 lr = 0.001\n",
    "\n",
    "plt.plot(episode_rewards)"
   ]
  },
  {
   "cell_type": "markdown",
   "id": "a374b0a7-e90e-4194-8d55-18a517cba071",
   "metadata": {},
   "source": [
    "### DQN variants"
   ]
  },
  {
   "cell_type": "code",
   "execution_count": 1,
   "id": "adca4b8f-0ce2-47fd-aec8-1dc09264eb5c",
   "metadata": {},
   "outputs": [
    {
     "name": "stdout",
     "output_type": "stream",
     "text": [
      "here\n"
     ]
    },
    {
     "ename": "NameError",
     "evalue": "name 'tqdm' is not defined",
     "output_type": "error",
     "traceback": [
      "\u001b[0;31m---------------------------------------------------------------------------\u001b[0m",
      "\u001b[0;31mNameError\u001b[0m                                 Traceback (most recent call last)",
      "Input \u001b[0;32mIn [1]\u001b[0m, in \u001b[0;36m<cell line: 34>\u001b[0;34m()\u001b[0m\n\u001b[1;32m     32\u001b[0m     episode_rewards \u001b[38;5;241m=\u001b[39m train()\n\u001b[1;32m     33\u001b[0m     \u001b[38;5;28mprint\u001b[39m(np\u001b[38;5;241m.\u001b[39mmean(episode_rewards), np\u001b[38;5;241m.\u001b[39mstd(episode_rewards), np\u001b[38;5;241m.\u001b[39mmin(episode_rewards), np\u001b[38;5;241m.\u001b[39mmax(episode_rewards))\n\u001b[0;32m---> 34\u001b[0m \u001b[43mfixed_q_value_targets\u001b[49m\u001b[43m(\u001b[49m\u001b[43m)\u001b[49m\n",
      "Input \u001b[0;32mIn [1]\u001b[0m, in \u001b[0;36mfixed_q_value_targets\u001b[0;34m()\u001b[0m\n\u001b[1;32m     30\u001b[0m             training_step(batch_size)\n\u001b[1;32m     31\u001b[0m     \u001b[38;5;28;01mreturn\u001b[39;00m episode_rewards\n\u001b[0;32m---> 32\u001b[0m episode_rewards \u001b[38;5;241m=\u001b[39m \u001b[43mtrain\u001b[49m\u001b[43m(\u001b[49m\u001b[43m)\u001b[49m\n\u001b[1;32m     33\u001b[0m \u001b[38;5;28mprint\u001b[39m(np\u001b[38;5;241m.\u001b[39mmean(episode_rewards), np\u001b[38;5;241m.\u001b[39mstd(episode_rewards), np\u001b[38;5;241m.\u001b[39mmin(episode_rewards), np\u001b[38;5;241m.\u001b[39mmax(episode_rewards))\n",
      "Input \u001b[0;32mIn [1]\u001b[0m, in \u001b[0;36mfixed_q_value_targets.<locals>.train\u001b[0;34m()\u001b[0m\n\u001b[1;32m     17\u001b[0m \u001b[38;5;28mprint\u001b[39m(\u001b[38;5;124m\"\u001b[39m\u001b[38;5;124mhere\u001b[39m\u001b[38;5;124m\"\u001b[39m)\n\u001b[1;32m     18\u001b[0m episode_rewards \u001b[38;5;241m=\u001b[39m []\n\u001b[0;32m---> 19\u001b[0m \u001b[38;5;28;01mfor\u001b[39;00m episode \u001b[38;5;129;01min\u001b[39;00m \u001b[43mtqdm\u001b[49m(\u001b[38;5;28mrange\u001b[39m(n_episodes)):\n\u001b[1;32m     20\u001b[0m     obs \u001b[38;5;241m=\u001b[39m env\u001b[38;5;241m.\u001b[39mreset()\n\u001b[1;32m     21\u001b[0m     step_reward \u001b[38;5;241m=\u001b[39m \u001b[38;5;241m0\u001b[39m\n",
      "\u001b[0;31mNameError\u001b[0m: name 'tqdm' is not defined"
     ]
    }
   ],
   "source": [
    "def fixed_q_value_targets():\n",
    "    target = keras.models.clone_model(model)\n",
    "    target.set_weights(model.get_weights())\n",
    "    def training_step(batch_size):\n",
    "        print(\"here\")\n",
    "        states, actions, rewards, next_states, dones = sample_experiences(batch_size)\n",
    "        next_Q_values = target.predict(next_states)\n",
    "        max_next_Q_values = tf.reduce_max(next_Q_values, axis=1) # agent plays optimally => store only max values\n",
    "        target_Q_values = rewards + (1 - dones) * discount_factor * max_next_Q_values\n",
    "        mask = tf.one_hot(actions, n_outputs) \n",
    "        with tf.GradientTape() as tape:\n",
    "            all_Q_values = model(states)\n",
    "            Q_values = tf.reduce_sum(mask * all_Q_values, axis=1, keepdims=True) # mask out q values for actions that were not chosen \n",
    "            loss = tf.reduce_mean(loss_fn(Q_values, target_Q_values))\n",
    "        grads = tape.gradient(loss, model.trainable_variables)\n",
    "        optimizer.apply_gradients(zip(grads, model.trainable_variables))\n",
    "\n",
    "    def train():\n",
    "        print(\"here\")\n",
    "        episode_rewards = []\n",
    "        for episode in tqdm(range(n_episodes)):\n",
    "            obs = env.reset()\n",
    "            step_reward = 0\n",
    "            for step in range(n_steps):\n",
    "                eps = max(1 - episode / 500, 0.01)\n",
    "                obs, reward, done, info = play_one_step(env, obs, eps)\n",
    "                step_reward += reward\n",
    "                if done:\n",
    "                    break\n",
    "            episode_rewards.append(step_reward)\n",
    "            if episode > 50:\n",
    "                training_step(batch_size)\n",
    "            if episode % 50 == 0:\n",
    "                target.set_weights(model.get_weights())\n",
    "        return episode_rewards\n",
    "    episode_rewards = train()\n",
    "    print(np.mean(episode_rewards), np.std(episode_rewards), np.min(episode_rewards), np.max(episode_rewards))\n",
    "fixed_q_value_targets()"
   ]
  }
 ],
 "metadata": {
  "kernelspec": {
   "display_name": "Python 3 (ipykernel)",
   "language": "python",
   "name": "python3"
  },
  "language_info": {
   "codemirror_mode": {
    "name": "ipython",
    "version": 3
   },
   "file_extension": ".py",
   "mimetype": "text/x-python",
   "name": "python",
   "nbconvert_exporter": "python",
   "pygments_lexer": "ipython3",
   "version": "3.8.6"
  }
 },
 "nbformat": 4,
 "nbformat_minor": 5
}
