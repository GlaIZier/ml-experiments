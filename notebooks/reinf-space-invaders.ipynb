{
 "cells": [
  {
   "cell_type": "code",
   "execution_count": 14,
   "id": "9bf8ec4f-aa7b-4a42-87b8-908bc060ad03",
   "metadata": {},
   "outputs": [
    {
     "name": "stderr",
     "output_type": "stream",
     "text": [
      "/Users/mkhokhlush/github/ml-experiments/.venv/lib/python3.8/site-packages/gym/utils/seeding.py:138: DeprecationWarning: \u001b[33mWARN: Function `hash_seed(seed, max_bytes)` is marked as deprecated and will be removed in the future. \u001b[0m\n",
      "  deprecation(\n",
      "/Users/mkhokhlush/github/ml-experiments/.venv/lib/python3.8/site-packages/gym/utils/seeding.py:175: DeprecationWarning: \u001b[33mWARN: Function `_bigint_from_bytes(bytes)` is marked as deprecated and will be removed in the future. \u001b[0m\n",
      "  deprecation(\n"
     ]
    },
    {
     "data": {
      "text/plain": [
       "(210, 160, 3)"
      ]
     },
     "execution_count": 14,
     "metadata": {},
     "output_type": "execute_result"
    }
   ],
   "source": [
    "import numpy as np\n",
    "from tf_agents.environments import suite_gym\n",
    "\n",
    "env = suite_gym.load(\"SpaceInvaders-v4\")\n",
    "env.step(1).observation.shape"
   ]
  },
  {
   "cell_type": "code",
   "execution_count": 4,
   "id": "8a86b272-3a0e-47ee-8065-bbe17d4a46d5",
   "metadata": {},
   "outputs": [
    {
     "data": {
      "text/plain": [
       "['NOOP', 'FIRE', 'RIGHT', 'LEFT', 'RIGHTFIRE', 'LEFTFIRE']"
      ]
     },
     "execution_count": 4,
     "metadata": {},
     "output_type": "execute_result"
    }
   ],
   "source": [
    "env.gym.get_action_meanings()"
   ]
  },
  {
   "cell_type": "code",
   "execution_count": 7,
   "id": "eed039f8-2857-4747-bf33-a86fca4936c8",
   "metadata": {},
   "outputs": [
    {
     "data": {
      "text/plain": [
       "<tf_agents.environments.atari_wrappers.AtariTimeLimit at 0x15f9da820>"
      ]
     },
     "execution_count": 7,
     "metadata": {},
     "output_type": "execute_result"
    }
   ],
   "source": [
    "from tf_agents.environments import suite_atari\n",
    "from tf_agents.environments.atari_preprocessing import AtariPreprocessing\n",
    "from tf_agents.environments.atari_wrappers import FrameStack4\n",
    "\n",
    "max_episode_steps = 27000\n",
    "environment_name = \"SpaceInvadersNoFrameskip-v4\"\n",
    "\n",
    "# ?\n",
    "# class AtariPreprocessingWithAutoFire(AtariPreprocessing):\n",
    "#     def reset(self, **kwargs):\n",
    "#         obs = super().reset(**kwargs)\n",
    "#         super().step(1) # FIRE to start\n",
    "#         return obs\n",
    "#     def step(self, action):\n",
    "#         lives_before_action = self.ale.lives()\n",
    "#         obs, rewards, done, info = super().step(action)\n",
    "#         if self.ale.lives() < lives_before_action and not done:\n",
    "#             super().step(1) # FIRE to start after life lost\n",
    "#         return obs, rewards, done, info\n",
    "\n",
    "env = suite_atari.load(\n",
    "    environment_name,\n",
    "    max_episode_steps=max_episode_steps,\n",
    "    gym_env_wrappers=[AtariPreprocessing, FrameStack4])\n",
    "env"
   ]
  },
  {
   "cell_type": "code",
   "execution_count": 8,
   "id": "feb18219-9562-4f34-ad67-eab8e05b73f0",
   "metadata": {},
   "outputs": [
    {
     "name": "stdout",
     "output_type": "stream",
     "text": [
      "(84, 84, 4)\n",
      "(84, 84, 4)\n",
      "(84, 84, 4)\n",
      "(84, 84, 4)\n"
     ]
    }
   ],
   "source": [
    "env.seed(42)\n",
    "env.reset()\n",
    "for _ in range(4):\n",
    "    time_step = env.step(3) # LEFT\n",
    "    print(time_step.observation.shape)"
   ]
  },
  {
   "cell_type": "code",
   "execution_count": 16,
   "id": "8981736b-6b53-4ec2-831c-98de2394630e",
   "metadata": {},
   "outputs": [
    {
     "data": {
      "image/png": "[encoded data removed]",
      "text/plain": [
       "<Figure size 432x432 with 1 Axes>"
      ]
     },
     "metadata": {
      "needs_background": "light"
     },
     "output_type": "display_data"
    }
   ],
   "source": [
    "import matplotlib.pyplot as plt\n",
    "\n",
    "def plot_observation(obs):\n",
    "    # Since there are only 3 color channels, you cannot display 4 frames\n",
    "    # with one primary color per frame. So this code computes the delta between\n",
    "    # the current frame and the mean of the other frames, and it adds this delta\n",
    "    # to the red and blue channels to get a pink color for the current frame.\n",
    "    obs = obs.astype(np.float32)\n",
    "    img = obs[..., :3]\n",
    "    current_frame_delta = np.maximum(obs[..., 3] - obs[..., :3].mean(axis=-1), 0.)\n",
    "    img[..., 0] += current_frame_delta\n",
    "    img[..., 2] += current_frame_delta\n",
    "    img = np.clip(img / 150, 0, 1)\n",
    "    plt.imshow(img)\n",
    "    plt.axis(\"off\")\n",
    "\n",
    "plt.figure(figsize=(6, 6))\n",
    "plot_observation(time_step.observation)\n",
    "plt.show()"
   ]
  }
 ],
 "metadata": {
  "kernelspec": {
   "display_name": "Python 3 (ipykernel)",
   "language": "python",
   "name": "python3"
  },
  "language_info": {
   "codemirror_mode": {
    "name": "ipython",
    "version": 3
   },
   "file_extension": ".py",
   "mimetype": "text/x-python",
   "name": "python",
   "nbconvert_exporter": "python",
   "pygments_lexer": "ipython3",
   "version": "3.8.6"
  }
 },
 "nbformat": 4,
 "nbformat_minor": 5
}
