{
 "cells": [
  {
   "cell_type": "code",
   "execution_count": 10,
   "id": "9bf8ec4f-aa7b-4a42-87b8-908bc060ad03",
   "metadata": {},
   "outputs": [
    {
     "data": {
      "text/plain": [
       "(210, 160, 3)"
      ]
     },
     "execution_count": 10,
     "metadata": {},
     "output_type": "execute_result"
    }
   ],
   "source": [
    "from tf_agents.environments import suite_gym\n",
    "\n",
    "env = suite_gym.load(\"SpaceInvaders-v4\")\n",
    "env.step(1).observation.shape"
   ]
  },
  {
   "cell_type": "code",
   "execution_count": 4,
   "id": "8a86b272-3a0e-47ee-8065-bbe17d4a46d5",
   "metadata": {},
   "outputs": [
    {
     "data": {
      "text/plain": [
       "['NOOP', 'FIRE', 'RIGHT', 'LEFT', 'RIGHTFIRE', 'LEFTFIRE']"
      ]
     },
     "execution_count": 4,
     "metadata": {},
     "output_type": "execute_result"
    }
   ],
   "source": [
    "env.gym.get_action_meanings()"
   ]
  },
  {
   "cell_type": "code",
   "execution_count": 7,
   "id": "eed039f8-2857-4747-bf33-a86fca4936c8",
   "metadata": {},
   "outputs": [
    {
     "data": {
      "text/plain": [
       "<tf_agents.environments.atari_wrappers.AtariTimeLimit at 0x15f9da820>"
      ]
     },
     "execution_count": 7,
     "metadata": {},
     "output_type": "execute_result"
    }
   ],
   "source": [
    "from tf_agents.environments import suite_atari\n",
    "from tf_agents.environments.atari_preprocessing import AtariPreprocessing\n",
    "from tf_agents.environments.atari_wrappers import FrameStack4\n",
    "\n",
    "max_episode_steps = 27000\n",
    "environment_name = \"SpaceInvadersNoFrameskip-v4\"\n",
    "\n",
    "# ?\n",
    "# class AtariPreprocessingWithAutoFire(AtariPreprocessing):\n",
    "#     def reset(self, **kwargs):\n",
    "#         obs = super().reset(**kwargs)\n",
    "#         super().step(1) # FIRE to start\n",
    "#         return obs\n",
    "#     def step(self, action):\n",
    "#         lives_before_action = self.ale.lives()\n",
    "#         obs, rewards, done, info = super().step(action)\n",
    "#         if self.ale.lives() < lives_before_action and not done:\n",
    "#             super().step(1) # FIRE to start after life lost\n",
    "#         return obs, rewards, done, info\n",
    "\n",
    "env = suite_atari.load(\n",
    "    environment_name,\n",
    "    max_episode_steps=max_episode_steps,\n",
    "    gym_env_wrappers=[AtariPreprocessing, FrameStack4])\n",
    "env"
   ]
  },
  {
   "cell_type": "code",
   "execution_count": 8,
   "id": "feb18219-9562-4f34-ad67-eab8e05b73f0",
   "metadata": {},
   "outputs": [
    {
     "name": "stdout",
     "output_type": "stream",
     "text": [
      "(84, 84, 4)\n",
      "(84, 84, 4)\n",
      "(84, 84, 4)\n",
      "(84, 84, 4)\n"
     ]
    }
   ],
   "source": [
    "env.seed(42)\n",
    "env.reset()\n",
    "for _ in range(4):\n",
    "    time_step = env.step(3) # LEFT\n",
    "    print(time_step.observation.shape)"
   ]
  }
 ],
 "metadata": {
  "kernelspec": {
   "display_name": "Python 3 (ipykernel)",
   "language": "python",
   "name": "python3"
  },
  "language_info": {
   "codemirror_mode": {
    "name": "ipython",
    "version": 3
   },
   "file_extension": ".py",
   "mimetype": "text/x-python",
   "name": "python",
   "nbconvert_exporter": "python",
   "pygments_lexer": "ipython3",
   "version": "3.8.6"
  }
 },
 "nbformat": 4,
 "nbformat_minor": 5
}
