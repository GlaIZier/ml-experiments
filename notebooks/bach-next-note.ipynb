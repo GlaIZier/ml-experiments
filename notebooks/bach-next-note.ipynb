{
 "cells": [
  {
   "cell_type": "code",
   "execution_count": 1,
   "id": "0c943105-b4dc-4a54-a726-e94cbad742d9",
   "metadata": {},
   "outputs": [],
   "source": [
    "import logging\n",
    "import tensorflow as tf\n",
    "from tensorflow import keras\n",
    "import matplotlib.pyplot as plt\n",
    "import numpy as np\n",
    "import pandas as pd\n",
    "import argparse \n",
    "\n",
    "logging.basicConfig(format='%(asctime)s : %(levelname)s : %(message)s', level=logging.INFO)\n",
    "log = logging.getLogger()\n",
    "\n",
    "%config Completer.use_jedi = False # make autocompletion works in jupyter"
   ]
  },
  {
   "cell_type": "code",
   "execution_count": 2,
   "id": "cb8b7d3d-78c7-444a-a80d-627a8f8e6072",
   "metadata": {},
   "outputs": [],
   "source": [
    "import argparse \n",
    "\n",
    "args = argparse.Namespace()\n",
    "args.data_folder = './data/bach-next-note/'\n",
    "args.train_folder = args.data_folder + 'train/'\n",
    "args.val_folder = args.data_folder + 'val/'\n",
    "args.test_folder = args.data_folder + 'test/'\n",
    "# args.train_fraction = 0.8\n",
    "args.seed = 101\n",
    "args.batch_size = 32\n",
    "args.epochs = 7"
   ]
  },
  {
   "cell_type": "code",
   "execution_count": 17,
   "id": "372468fe-a3ee-4714-a528-8a0a48140176",
   "metadata": {},
   "outputs": [
    {
     "name": "stdout",
     "output_type": "stream",
     "text": [
      "tf.Tensor(\n",
      "[b'67,64,59,52' b'69,65,57,50' b'74,67,59,55' b'69,64,60,45'\n",
      " b'65,60,57,41' b'74,68,65,47' b'70,62,55,43' b'71,67,62,50'\n",
      " b'70,62,53,46' b'72,67,60,45' b'72,64,57,55' b'69,62,57,54'\n",
      " b'71,55,62,54' b'72,67,60,52' b'72,60,64,57' b'70,67,62,46'\n",
      " b'69,63,60,48' b'69,62,59,53' b'65,60,57,57' b'69,65,60,53'\n",
      " b'71,62,59,55' b'74,65,57,53' b'69,66,60,50' b'78,69,62,48'\n",
      " b'67,62,59,43' b'69,66,60,50' b'67,63,60,48' b'71,66,62,56'\n",
      " b'63,63,55,39' b'67,62,59,54' b'74,62,57,54' b'71,62,59,55'], shape=(32,), dtype=string)\n"
     ]
    }
   ],
   "source": [
    "import matplotlib.pyplot as plt\n",
    "\n",
    "def plot_history(history):\n",
    "    log.info(\"History keys: %s\", history.history.keys())\n",
    "    # Accuracy\n",
    "    fig, ax = plt.subplots(figsize=(10, 5))\n",
    "    ax.plot(history.history['accuracy'], label='Train')\n",
    "    ax.plot(history.history['val_accuracy'], label='Test')\n",
    "    ax.set_title('Model accuracy')\n",
    "    ax.set_ylabel('Accuracy')\n",
    "    ax.set_xlabel('Epoch')\n",
    "    ax.grid(True)\n",
    "    ax.legend(['Train', 'Val'], loc='lower right')\n",
    "    \n",
    "    # Loss\n",
    "    plt.figure(figsize=(10,5))\n",
    "    plt.plot(history.history['loss'])\n",
    "    plt.plot(history.history['val_loss'])\n",
    "    plt.title('Model loss')\n",
    "    plt.ylabel('Loss')\n",
    "    plt.xlabel('Epoch')\n",
    "    plt.legend(['Train', 'Val'], loc='upper left')\n",
    "    plt.grid()\n",
    "    plt.show()\n",
    "    \n",
    "def build_dataset(data_folder):\n",
    "#     p1 = pd.read_csv(args.train_folder + 'chorale_000.csv')\n",
    "    dataset = tf.data.Dataset.list_files(data_folder + 'chorale_0*.csv', seed=args.seed)\n",
    "    dataset = dataset.interleave(lambda filepath: tf.data.TextLineDataset(filepath).skip(1))\n",
    "#     dataset.map(preprocess)\n",
    "    dataset = dataset.shuffle(10000)\n",
    "    dataset = dataset.batch(args.batch_size).prefetch(1)\n",
    "    for d in dataset:\n",
    "        print(d)\n",
    "        break\n",
    "    \n",
    "#     for d in dataset:\n",
    "#         print(d)\n",
    "#         break\n",
    "#     return dataset\n",
    "\n",
    "def baseline_model():\n",
    "    model = keras.models.Sequential()\n",
    "    model.add(keras.layers.SimpleRNN(20, return_sequences=True, input_shape=[None, 4]))\n",
    "    model.add(keras.layers.SimpleRNN(20)\n",
    "    model.add(keras.layers.Dense(10))\n",
    "    return model\n",
    "\n",
    "build_dataset(data_folder=args.train_folder)"
   ]
  }
 ],
 "metadata": {
  "kernelspec": {
   "display_name": "Python 3",
   "language": "python",
   "name": "python3"
  },
  "language_info": {
   "codemirror_mode": {
    "name": "ipython",
    "version": 3
   },
   "file_extension": ".py",
   "mimetype": "text/x-python",
   "name": "python",
   "nbconvert_exporter": "python",
   "pygments_lexer": "ipython3",
   "version": "3.8.6"
  }
 },
 "nbformat": 4,
 "nbformat_minor": 5
}
