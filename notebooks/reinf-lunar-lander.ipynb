{
 "cells": [
  {
   "cell_type": "markdown",
   "id": "767687b5-10fd-435a-97e1-82cb0d9f97ed",
   "metadata": {},
   "source": [
    "8. Reinf learning. Exercise: Use policy gradients to solve OpenAI Gym's LunarLander-v2 environment. You will need to install the Box2D dependencies (%pip install -U gym[box2d])."
   ]
  },
  {
   "cell_type": "code",
   "execution_count": 4,
   "id": "fbee982d-cf3a-4dfb-bddf-4fbc605513f4",
   "metadata": {},
   "outputs": [
    {
     "data": {
      "text/plain": [
       "array([ 0.00422506,  1.4077823 ,  0.4279313 , -0.13946356, -0.00488894,\n",
       "       -0.09693269,  0.        ,  0.        ], dtype=float32)"
      ]
     },
     "execution_count": 4,
     "metadata": {},
     "output_type": "execute_result"
    }
   ],
   "source": [
    "import numpy as np\n",
    "import gym\n",
    "env = gym.make(\"LunarLander-v2\")\n",
    "obs = env.reset()\n",
    "obs"
   ]
  },
  {
   "cell_type": "code",
   "execution_count": 2,
   "id": "0320204f-372a-4e58-8271-4fce3bdb0249",
   "metadata": {},
   "outputs": [
    {
     "name": "stdout",
     "output_type": "stream",
     "text": [
      "Discrete(4)\n",
      "Box(-inf, inf, (8,), float32)\n"
     ]
    }
   ],
   "source": [
    "import matplotlib.pyplot as plt\n",
    "# img = env.render(mode=\"rgb_array\")\n",
    "# env.close()\n",
    "# plt.imshow(img)\n",
    "print(env.action_space)\n",
    "print(env.observation_space)"
   ]
  },
  {
   "cell_type": "code",
   "execution_count": 8,
   "id": "4543afbd-bb27-4e8a-a317-f8ced879c8d9",
   "metadata": {},
   "outputs": [
    {
     "name": "stdout",
     "output_type": "stream",
     "text": [
      "-179.8682271598708 113.57826569586982 -536.6091716341286 11.068357820341546\n"
     ]
    }
   ],
   "source": [
    "# random policy\n",
    "\n",
    "total_rewards = []\n",
    "for i_episode in range(200):\n",
    "    rewards = 0\n",
    "    obs = env.reset()\n",
    "    for t in range(200):\n",
    "        action = env.action_space.sample()\n",
    "        obs, reward, done, info = env.step(action)\n",
    "        rewards += reward\n",
    "        if done:\n",
    "            break\n",
    "    total_rewards.append(rewards)\n",
    "print(np.mean(total_rewards), np.std(total_rewards), np.min(total_rewards), np.max(total_rewards))"
   ]
  },
  {
   "cell_type": "code",
   "execution_count": 28,
   "id": "f3ab7d47-4308-492f-a705-2403c6f1ac31",
   "metadata": {},
   "outputs": [
    {
     "name": "stdout",
     "output_type": "stream",
     "text": [
      "[[ 0.00584564  1.4179595   0.592075    0.3128464  -0.00676677 -0.13411388\n",
      "   0.          0.        ]]\n",
      "4\n"
     ]
    },
    {
     "data": {
      "text/plain": [
       "<tf.Tensor: shape=(1, 4), dtype=float32, numpy=array([[0.47304472, 0.15830469, 0.09631486, 0.27233568]], dtype=float32)>"
      ]
     },
     "execution_count": 28,
     "metadata": {},
     "output_type": "execute_result"
    }
   ],
   "source": [
    "# model\n",
    "\n",
    "import tensorflow as tf\n",
    "from tensorflow import keras\n",
    "\n",
    "print(env.reset()[np.newaxis, :])\n",
    "print(env.action_space.n)\n",
    "model = keras.models.Sequential()\n",
    "model.add(keras.layers.InputLayer(input_shape=(env.observation_space.shape[0],)))\n",
    "model.add(keras.layers.Dense(10, activation='relu'))\n",
    "model.add(keras.layers.Dense(env.action_space.n, activation='softmax'))\n",
    "\n",
    "model(env.reset()[np.newaxis, :])"
   ]
  },
  {
   "cell_type": "code",
   "execution_count": 105,
   "id": "d6d27e72-a3bd-40dd-aa63-cee82b93dbee",
   "metadata": {},
   "outputs": [
    {
     "name": "stdout",
     "output_type": "stream",
     "text": [
      "tf.Tensor([0.42867184 0.188241   0.15195233 0.23113482], shape=(4,), dtype=float32) tf.Tensor([0. 0. 0. 1.], shape=(4,), dtype=float32)\n"
     ]
    },
    {
     "ename": "TypeError",
     "evalue": "'NoneType' object is not callable",
     "output_type": "error",
     "traceback": [
      "\u001b[0;31m---------------------------------------------------------------------------\u001b[0m",
      "\u001b[0;31mTypeError\u001b[0m                                 Traceback (most recent call last)",
      "Input \u001b[0;32mIn [105]\u001b[0m, in \u001b[0;36m<cell line: 12>\u001b[0;34m()\u001b[0m\n\u001b[1;32m      9\u001b[0m         \u001b[38;5;28mprint\u001b[39m(action_proba, y_target)\n\u001b[1;32m     11\u001b[0m         loss \u001b[38;5;241m=\u001b[39m tf\u001b[38;5;241m.\u001b[39mreduce_mean(loss_fn(y_target, action_proba))\n\u001b[0;32m---> 12\u001b[0m \u001b[43mplay_one_step\u001b[49m\u001b[43m(\u001b[49m\u001b[43menv\u001b[49m\u001b[43m,\u001b[49m\u001b[43m \u001b[49m\u001b[43menv\u001b[49m\u001b[38;5;241;43m.\u001b[39;49m\u001b[43mreset\u001b[49m\u001b[43m(\u001b[49m\u001b[43m)\u001b[49m\u001b[43m,\u001b[49m\u001b[43m \u001b[49m\u001b[43mmodel\u001b[49m\u001b[43m,\u001b[49m\u001b[43m \u001b[49m\u001b[38;5;28;43;01mNone\u001b[39;49;00m\u001b[43m)\u001b[49m\n",
      "Input \u001b[0;32mIn [105]\u001b[0m, in \u001b[0;36mplay_one_step\u001b[0;34m(env, obs, model, loss_fn)\u001b[0m\n\u001b[1;32m      8\u001b[0m y_target \u001b[38;5;241m=\u001b[39m tf\u001b[38;5;241m.\u001b[39mcast(actions \u001b[38;5;241m==\u001b[39m max_value, tf\u001b[38;5;241m.\u001b[39mfloat32)\n\u001b[1;32m      9\u001b[0m \u001b[38;5;28mprint\u001b[39m(action_proba, y_target)\n\u001b[0;32m---> 11\u001b[0m loss \u001b[38;5;241m=\u001b[39m tf\u001b[38;5;241m.\u001b[39mreduce_mean(\u001b[43mloss_fn\u001b[49m\u001b[43m(\u001b[49m\u001b[43my_target\u001b[49m\u001b[43m,\u001b[49m\u001b[43m \u001b[49m\u001b[43maction_proba\u001b[49m\u001b[43m)\u001b[49m)\n",
      "\u001b[0;31mTypeError\u001b[0m: 'NoneType' object is not callable"
     ]
    }
   ],
   "source": [
    "def play_one_step(env, obs, model, loss_fn):\n",
    "    with tf.GradientTape() as tape:\n",
    "        action_proba = model(obs[np.newaxis, :])[0]\n",
    "        rand = tf.random.uniform([env.action_space.n])\n",
    "        actions = action_proba - rand\n",
    "        max_value = tf.reduce_max(actions)\n",
    "        action = tf.argmax(actions)\n",
    "        y_target = tf.cast(actions == max_value, tf.float32)\n",
    "        print(action_proba, y_target)\n",
    "        \n",
    "        loss = tf.reduce_mean(loss_fn(y_target, action_proba))\n",
    "play_one_step(env, env.reset(), model, None)"
   ]
  }
 ],
 "metadata": {
  "kernelspec": {
   "display_name": "Python 3 (ipykernel)",
   "language": "python",
   "name": "python3"
  },
  "language_info": {
   "codemirror_mode": {
    "name": "ipython",
    "version": 3
   },
   "file_extension": ".py",
   "mimetype": "text/x-python",
   "name": "python",
   "nbconvert_exporter": "python",
   "pygments_lexer": "ipython3",
   "version": "3.8.6"
  }
 },
 "nbformat": 4,
 "nbformat_minor": 5
}
