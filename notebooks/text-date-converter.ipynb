{
 "cells": [
  {
   "cell_type": "code",
   "execution_count": 105,
   "id": "2a007ff6-daff-4ee6-a878-93d0fd754189",
   "metadata": {},
   "outputs": [
    {
     "name": "stdout",
     "output_type": "stream",
     "text": [
      "[[110, 111, 118, 101, 109, 98, 101, 114, 32, 49, 50, 44, 32, 53, 50, 54, 52], [110, 111, 118, 101, 109, 98, 101, 114, 32, 49, 44, 32, 53, 49, 49, 48]]\n",
      "[[5, 2, 6, 4, 10, 1, 1, 10, 1, 2], [5, 1, 1, 0, 10, 1, 1, 10, 0, 1]]\n",
      "10\n"
     ]
    },
    {
     "data": {
      "text/plain": [
       "(<tf.RaggedTensor [[110, 111, 118, 101, 109, 98, 101, 114, 32, 49, 50, 44, 32, 53, 50, 54, 52], [110, 111, 118, 101, 109, 98, 101, 114, 32, 49, 44, 32, 53, 49, 49, 48]]>,\n",
       " <tf.Tensor: shape=(2, 10), dtype=int32, numpy=\n",
       " array([[ 5,  2,  6,  4, 10,  1,  1, 10,  1,  2],\n",
       "        [ 5,  1,  1,  0, 10,  1,  1, 10,  0,  1]], dtype=int32)>)"
      ]
     },
     "execution_count": 105,
     "metadata": {},
     "output_type": "execute_result"
    }
   ],
   "source": [
    "import argparse \n",
    "import datetime\n",
    "import random\n",
    "\n",
    "import numpy as np\n",
    "import tensorflow as tf\n",
    "\n",
    "\n",
    "args = argparse.Namespace()\n",
    "args.seed = 101\n",
    "    \n",
    "def random_date_output():\n",
    "    ordinal_min = datetime.date(1000, 1, 1).toordinal()\n",
    "    ordinal_max = datetime.date(9999, 12, 31).toordinal()\n",
    "    return datetime.date.fromordinal(random.randint(ordinal_min, ordinal_max))\n",
    "\n",
    "def output_date_to_input(date) -> str:\n",
    "    months = [\"January\", \"February\", \"March\", \"April\", \"May\", \"June\",\n",
    "          \"July\", \"August\", \"September\", \"October\", \"November\", \"December\"]\n",
    "    \n",
    "    return \"{} {}, {}\".format(months[date.month - 1], date.day, date.year)\n",
    "\n",
    "\n",
    "def date_to_np(str_date):\n",
    "    str_date = str_date.lower()\n",
    "    return np.array([ord(s) for s in str_date])\n",
    "\n",
    "def output_date_to_np(str_date):\n",
    "    return np.array([10 if s=='-' else int(s) for s in str_date])\n",
    "\n",
    "def np_to_date(np_date):\n",
    "    return \"\".join([chr(i) for i in np_date.tolist()])\n",
    "\n",
    "def build_dataset(dates_num):\n",
    "    dataset = []\n",
    "    input_list = []\n",
    "    output_list = []\n",
    "    for i in range(dates_num):\n",
    "        rd = random_date_output()\n",
    "        ird = output_date_to_input(rd)\n",
    "        ird = date_to_np(ird)\n",
    "        rd = output_date_to_np(str(rd))\n",
    "        input_list.append(ird.tolist())\n",
    "        output_list.append(rd.tolist())\n",
    "        dataset.append([ird, rd])\n",
    "    print(input_list)\n",
    "    print(output_list)\n",
    "    dataset = np.array(dataset, dtype=object)\n",
    "    \n",
    "    # return dataset[:, 0], dataset[:, 1]\n",
    "    return tf.ragged.constant(input_list), tf.constant(output_list)\n",
    "\n",
    "\n",
    "train_dataset = build_dataset(2)\n",
    "\n",
    "max_int_len = ord(\"z\")\n",
    "max_out_len = len(train_dataset[1][0])\n",
    "out_num = 11\n",
    "print(max_out)\n",
    "train_dataset\n",
    "# np.vstack(train_dataset[1])"
   ]
  },
  {
   "cell_type": "code",
   "execution_count": 106,
   "id": "2f9dd2c4-05d4-4eeb-94dc-736fd144e555",
   "metadata": {},
   "outputs": [
    {
     "name": "stdout",
     "output_type": "stream",
     "text": [
      "Model: \"sequential_73\"\n",
      "_________________________________________________________________\n",
      " Layer (type)                Output Shape              Param #   \n",
      "=================================================================\n",
      " sequential_71 (Sequential)  (None, 64)                28736     \n",
      "                                                                 \n",
      " sequential_72 (Sequential)  (None, 10, 11)            33739     \n",
      "                                                                 \n",
      "=================================================================\n",
      "Total params: 62,475\n",
      "Trainable params: 62,475\n",
      "Non-trainable params: 0\n",
      "_________________________________________________________________\n"
     ]
    },
    {
     "name": "stderr",
     "output_type": "stream",
     "text": [
      "/Users/mkhokhlush/github/ml-experiments/.venv/lib/python3.8/site-packages/tensorflow/python/framework/indexed_slices.py:448: UserWarning: Converting sparse IndexedSlices(IndexedSlices(indices=Tensor(\"gradient_tape/sequential_73/sequential_71/lstm_51/RaggedToTensor/boolean_mask_1/GatherV2:0\", shape=(None,), dtype=int32), values=Tensor(\"gradient_tape/sequential_73/sequential_71/lstm_51/RaggedToTensor/boolean_mask/GatherV2:0\", shape=(None, 32), dtype=float32), dense_shape=Tensor(\"gradient_tape/sequential_73/sequential_71/lstm_51/RaggedToTensor/Shape:0\", shape=(2,), dtype=int32))) to a dense Tensor of unknown shape. This may consume a large amount of memory.\n",
      "  warnings.warn(\n"
     ]
    },
    {
     "name": "stdout",
     "output_type": "stream",
     "text": [
      "1/1 [==============================] - 3s 3s/step - loss: 2.3970 - accuracy: 0.2000\n"
     ]
    },
    {
     "data": {
      "text/plain": [
       "<tf.Tensor: shape=(2, 10, 11), dtype=float32, numpy=\n",
       "array([[[0.09115169, 0.0918684 , 0.09108949, 0.09062559, 0.09065845,\n",
       "         0.09079225, 0.09082368, 0.09065931, 0.090624  , 0.09081312,\n",
       "         0.090894  ],\n",
       "        [0.09125575, 0.09252891, 0.09113512, 0.09044632, 0.09055454,\n",
       "         0.09060355, 0.09082286, 0.0905228 , 0.09049722, 0.09082216,\n",
       "         0.09081079],\n",
       "        [0.09133481, 0.09303388, 0.09116194, 0.09028669, 0.0904934 ,\n",
       "         0.09044617, 0.09081895, 0.09040909, 0.09042008, 0.09084263,\n",
       "         0.09075238],\n",
       "        [0.09139507, 0.0934168 , 0.0911772 , 0.09014739, 0.09046204,\n",
       "         0.09031682, 0.09081183, 0.09031542, 0.09037658, 0.0908699 ,\n",
       "         0.09071093],\n",
       "        [0.09144101, 0.09370547, 0.09118547, 0.09002777, 0.09045064,\n",
       "         0.09021161, 0.09080181, 0.09023909, 0.09035513, 0.09090067,\n",
       "         0.09068134],\n",
       "        [0.09147592, 0.09392219, 0.09118958, 0.0899264 , 0.09045199,\n",
       "         0.0901266 , 0.09078941, 0.09017748, 0.09034756, 0.09093264,\n",
       "         0.09066022],\n",
       "        [0.0915023 , 0.09408445, 0.09119123, 0.08984146, 0.09046099,\n",
       "         0.09005821, 0.0907753 , 0.09012814, 0.09034833, 0.09096423,\n",
       "         0.09064535],\n",
       "        [0.09152206, 0.09420571, 0.09119146, 0.08977097, 0.09047411,\n",
       "         0.09000333, 0.0907602 , 0.09008881, 0.09035377, 0.09099445,\n",
       "         0.09063517],\n",
       "        [0.09153669, 0.0942962 , 0.09119086, 0.08971298, 0.09048894,\n",
       "         0.08995929, 0.09074474, 0.09005754, 0.09036153, 0.09102269,\n",
       "         0.09062854],\n",
       "        [0.09154739, 0.09436368, 0.09118982, 0.08966565, 0.09050395,\n",
       "         0.08992396, 0.09072951, 0.09003268, 0.09037016, 0.09104864,\n",
       "         0.09062465]],\n",
       "\n",
       "       [[0.09099826, 0.09156693, 0.09098767, 0.0905077 , 0.09076341,\n",
       "         0.09099998, 0.0908429 , 0.09081272, 0.09063154, 0.09068699,\n",
       "         0.0912019 ],\n",
       "        [0.09098309, 0.09198964, 0.09095716, 0.09026467, 0.09075217,\n",
       "         0.0909889 , 0.09085383, 0.09077742, 0.09050928, 0.09058611,\n",
       "         0.09133774],\n",
       "        [0.09096966, 0.09230937, 0.09092732, 0.09007661, 0.09076633,\n",
       "         0.09098193, 0.09085967, 0.09072917, 0.09043449, 0.09051234,\n",
       "         0.09143312],\n",
       "        [0.0909583 , 0.09254912, 0.09090041, 0.089931  , 0.09079255,\n",
       "         0.0909789 , 0.09086281, 0.09067661, 0.09039193, 0.09046024,\n",
       "         0.09149814],\n",
       "        [0.09094885, 0.0927276 , 0.09087725, 0.08981806, 0.09082285,\n",
       "         0.09097902, 0.09086432, 0.09062498, 0.09037057, 0.09042531,\n",
       "         0.09154113],\n",
       "        [0.09094105, 0.09285966, 0.09085789, 0.0897303 , 0.09085277,\n",
       "         0.09098135, 0.09086465, 0.09057726, 0.09036268, 0.09040378,\n",
       "         0.09156861],\n",
       "        [0.0909346 , 0.09295685, 0.09084202, 0.08966189, 0.09087994,\n",
       "         0.09098496, 0.09086401, 0.09053483, 0.09036293, 0.09039247,\n",
       "         0.0915855 ],\n",
       "        [0.09092927, 0.09302805, 0.09082917, 0.08960838, 0.09090337,\n",
       "         0.09098913, 0.09086256, 0.09049813, 0.09036774, 0.09038875,\n",
       "         0.09159543],\n",
       "        [0.09092486, 0.09308   , 0.09081889, 0.08956638, 0.09092282,\n",
       "         0.09099331, 0.09086049, 0.09046701, 0.09037479, 0.09039049,\n",
       "         0.09160101],\n",
       "        [0.09092122, 0.09311777, 0.09081071, 0.08953325, 0.09093844,\n",
       "         0.09099716, 0.0908579 , 0.09044101, 0.09038262, 0.09039596,\n",
       "         0.09160398]]], dtype=float32)>"
      ]
     },
     "execution_count": 106,
     "metadata": {},
     "output_type": "execute_result"
    }
   ],
   "source": [
    "encoder = tf.keras.models.Sequential([\n",
    "    tf.keras.layers.Embedding(max_int, 32, input_shape=[None]),\n",
    "    tf.keras.layers.LSTM(64, return_sequences=False)])\n",
    "\n",
    "# RepeatVector is a must. we translate +- 17 words seq into 10 words seq. return_sequences = True for encoder leads up to 17 words output\n",
    "# with return_sequences = False, it won't be possible to reconstruct a full seq, but one letter.\n",
    "decoder = tf.keras.models.Sequential([\n",
    "    tf.keras.layers.RepeatVector(max_out_len),\n",
    "    tf.keras.layers.LSTM(64, return_sequences=True),\n",
    "    tf.keras.layers.Dense(out_num, activation=\"softmax\")])\n",
    "model = tf.keras.models.Sequential([encoder, decoder])\n",
    "\n",
    "model.compile(optimizer=tf.keras.optimizers.Nadam(learning_rate=1e-3),\n",
    "          loss='sparse_categorical_crossentropy',\n",
    "          metrics=['accuracy'])\n",
    "model.summary()\n",
    "model.fit(train_dataset[0], train_dataset[1])\n",
    "\n",
    "\n",
    "# print(train_dataset[0][0])\n",
    "# print(train_dataset[0][0].reshape(1, -1, 1).shape)\n",
    "# model(train_dataset[0][0].reshape(1, -1, 1))\n",
    "\n",
    "# print(train_dataset[0])\n",
    "# print(train_dataset[0][0].reshape(2, -1, 1).shape)\n",
    "# model(train_dataset[0])"
   ]
  },
  {
   "cell_type": "code",
   "execution_count": 104,
   "id": "a2a68093-fea2-40ca-9a66-53a3ac423f12",
   "metadata": {},
   "outputs": [
    {
     "name": "stdout",
     "output_type": "stream",
     "text": [
      "97\n",
      "98\n",
      "99\n",
      "48\n",
      "49\n",
      "50\n",
      "51\n",
      "44\n",
      "32\n"
     ]
    },
    {
     "data": {
      "text/plain": [
       "1"
      ]
     },
     "execution_count": 104,
     "metadata": {},
     "output_type": "execute_result"
    }
   ],
   "source": [
    "for s in \"abc0123, \":\n",
    "    print(ord(s))\n",
    "    \n",
    "[[1, 2],[3, 4]][0][:]\n",
    "np.array([np.array([1, 2]), np.array([3, 4])])\n",
    "\n",
    "\n",
    "int(\"1\")"
   ]
  }
 ],
 "metadata": {
  "kernelspec": {
   "display_name": "Python 3 (ipykernel)",
   "language": "python",
   "name": "python3"
  },
  "language_info": {
   "codemirror_mode": {
    "name": "ipython",
    "version": 3
   },
   "file_extension": ".py",
   "mimetype": "text/x-python",
   "name": "python",
   "nbconvert_exporter": "python",
   "pygments_lexer": "ipython3",
   "version": "3.8.6"
  }
 },
 "nbformat": 4,
 "nbformat_minor": 5
}
