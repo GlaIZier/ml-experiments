{
 "cells": [
  {
   "cell_type": "code",
   "execution_count": 65,
   "id": "2a007ff6-daff-4ee6-a878-93d0fd754189",
   "metadata": {},
   "outputs": [
    {
     "name": "stdout",
     "output_type": "stream",
     "text": [
      "4988-02-18\n",
      "February 18, 4988\n",
      "2885-08-24\n",
      "August 24, 2885\n",
      "[[array([102, 101,  98, 114, 117,  97, 114, 121,  32,  49,  56,  44,  32,\n",
      "        52,  57,  56,  56]), array([52, 57, 56, 56, 45, 48, 50, 45, 49, 56])], [array([ 97, 117, 103, 117, 115, 116,  32,  50,  52,  44,  32,  50,  56,\n",
      "        56,  53]), array([50, 56, 56, 53, 45, 48, 56, 45, 50, 52])]]\n",
      "10\n"
     ]
    },
    {
     "data": {
      "text/plain": [
       "array([[52, 57, 56, 56, 45, 48, 50, 45, 49, 56],\n",
       "       [50, 56, 56, 53, 45, 48, 56, 45, 50, 52]])"
      ]
     },
     "execution_count": 65,
     "metadata": {},
     "output_type": "execute_result"
    }
   ],
   "source": [
    "import argparse \n",
    "import datetime\n",
    "import random\n",
    "\n",
    "import numpy as np\n",
    "import tensorflow as tf\n",
    "\n",
    "\n",
    "args = argparse.Namespace()\n",
    "args.seed = 101\n",
    "    \n",
    "def random_date_output():\n",
    "    ordinal_min = datetime.date(1000, 1, 1).toordinal()\n",
    "    ordinal_max = datetime.date(9999, 12, 31).toordinal()\n",
    "    return datetime.date.fromordinal(random.randint(ordinal_min, ordinal_max))\n",
    "\n",
    "def output_date_to_input(date) -> str:\n",
    "    months = [\"January\", \"February\", \"March\", \"April\", \"May\", \"June\",\n",
    "          \"July\", \"August\", \"September\", \"October\", \"November\", \"December\"]\n",
    "    \n",
    "    return \"{} {}, {}\".format(months[date.month - 1], date.day, date.year)\n",
    "\n",
    "\n",
    "def date_to_np(str_date):\n",
    "    str_date = str_date.lower()\n",
    "    return np.array([ord(s) for s in str_date])\n",
    "\n",
    "def np_to_date(np_date):\n",
    "    return \"\".join([chr(i) for i in np_date.tolist()])\n",
    "\n",
    "def build_dataset(dates_num):\n",
    "    dataset = []\n",
    "    for i in range(dates_num):\n",
    "        rd = random_date_output()\n",
    "        ird = output_date_to_input(rd)\n",
    "        print(rd)\n",
    "        print(ird)\n",
    "        ird = date_to_np(ird)\n",
    "        rd = date_to_np(str(rd))\n",
    "        dataset.append([ird, rd])\n",
    "    print(dataset)\n",
    "    dataset = np.array(dataset, dtype=object)\n",
    "    \n",
    "    return dataset[:, 0], dataset[:, 1]\n",
    "\n",
    "\n",
    "train_dataset = build_dataset(2)\n",
    "\n",
    "max_int = ord(\"z\")\n",
    "max_out = len(train_dataset[1][0])\n",
    "print(max_out)\n",
    "np.vstack(train_dataset[1])"
   ]
  },
  {
   "cell_type": "code",
   "execution_count": 63,
   "id": "2f9dd2c4-05d4-4eeb-94dc-736fd144e555",
   "metadata": {},
   "outputs": [
    {
     "name": "stdout",
     "output_type": "stream",
     "text": [
      "(1, 16, 1)\n"
     ]
    },
    {
     "data": {
      "text/plain": [
       "<tf.Tensor: shape=(1, 16, 10), dtype=float32, numpy=\n",
       "array([[[0.09988837, 0.09987179, 0.10002776, 0.10005739, 0.09986645,\n",
       "         0.09994791, 0.10001115, 0.10004818, 0.10010649, 0.10017456],\n",
       "        [0.09992061, 0.09974808, 0.10001814, 0.10014527, 0.09972299,\n",
       "         0.09991585, 0.09999088, 0.10009245, 0.10017035, 0.10027537],\n",
       "        [0.09983239, 0.09981145, 0.10007335, 0.1002185 , 0.09958421,\n",
       "         0.09983233, 0.10005141, 0.10017171, 0.10013217, 0.10029246],\n",
       "        [0.09982698, 0.09983764, 0.10008287, 0.10018644, 0.09956471,\n",
       "         0.09982862, 0.10009739, 0.1001481 , 0.10011359, 0.10031372],\n",
       "        [0.09995171, 0.09979478, 0.10005333, 0.10022829, 0.09953562,\n",
       "         0.09982894, 0.10007991, 0.10013772, 0.10008508, 0.10030468],\n",
       "        [0.1000469 , 0.0997818 , 0.10001183, 0.10029297, 0.09957649,\n",
       "         0.09978059, 0.10010517, 0.1000526 , 0.10013044, 0.10022125],\n",
       "        [0.10000071, 0.09978039, 0.09997708, 0.10032681, 0.09959967,\n",
       "         0.09976941, 0.10016129, 0.10014156, 0.1000623 , 0.10018077],\n",
       "        [0.09998658, 0.09985277, 0.09997103, 0.10042384, 0.09970322,\n",
       "         0.09979639, 0.1001584 , 0.10008224, 0.10003392, 0.0999916 ],\n",
       "        [0.09998935, 0.1000971 , 0.09997802, 0.10041198, 0.09975035,\n",
       "         0.0997568 , 0.10010578, 0.10003273, 0.09996432, 0.09991352],\n",
       "        [0.1000113 , 0.10020213, 0.10003021, 0.1004103 , 0.0999957 ,\n",
       "         0.09981383, 0.0998695 , 0.09989681, 0.0998841 , 0.09988608],\n",
       "        [0.09999832, 0.10031589, 0.09996042, 0.10048196, 0.10006975,\n",
       "         0.09985587, 0.09978222, 0.09984057, 0.09977247, 0.09992257],\n",
       "        [0.10003343, 0.10037916, 0.09990751, 0.10060415, 0.10016528,\n",
       "         0.09990787, 0.09972541, 0.09970282, 0.09976046, 0.09981389],\n",
       "        [0.10003696, 0.10041746, 0.09996836, 0.10059287, 0.10024003,\n",
       "         0.09982794, 0.09955505, 0.09962786, 0.09981219, 0.09992128],\n",
       "        [0.10009606, 0.10038697, 0.10004436, 0.10043635, 0.10032703,\n",
       "         0.09986988, 0.09940425, 0.09954543, 0.09992019, 0.09996946],\n",
       "        [0.10020288, 0.10027854, 0.10005362, 0.10026883, 0.10039395,\n",
       "         0.10002003, 0.099319  , 0.09952828, 0.10000671, 0.09992811],\n",
       "        [0.10028359, 0.10017014, 0.10005403, 0.10012233, 0.10043527,\n",
       "         0.10018102, 0.09927675, 0.09956042, 0.10006694, 0.09984951]]],\n",
       "      dtype=float32)>"
      ]
     },
     "execution_count": 63,
     "metadata": {},
     "output_type": "execute_result"
    }
   ],
   "source": [
    "encoder = tf.keras.models.Sequential([\n",
    "    tf.keras.layers.Embedding(max_int, 32, input_shape=[None]),\n",
    "    tf.keras.layers.LSTM(64, return_sequences=True)])\n",
    "    \n",
    "decoder = tf.keras.models.Sequential([\n",
    "    tf.keras.layers.LSTM(64, return_sequences=True),\n",
    "    tf.keras.layers.Dense(max_out, activation=\"softmax\")])\n",
    "model = tf.keras.models.Sequential([encoder, decoder])\n",
    "\n",
    "print(train_dataset[0][0].reshape(1, -1, 1).shape)\n",
    "model(train_dataset[0][0].reshape(1, -1, 1))"
   ]
  },
  {
   "cell_type": "code",
   "execution_count": 47,
   "id": "a2a68093-fea2-40ca-9a66-53a3ac423f12",
   "metadata": {},
   "outputs": [
    {
     "name": "stdout",
     "output_type": "stream",
     "text": [
      "97\n",
      "98\n",
      "99\n",
      "48\n",
      "49\n",
      "50\n",
      "51\n",
      "44\n",
      "32\n"
     ]
    },
    {
     "data": {
      "text/plain": [
       "array([[[1],\n",
       "        [2]],\n",
       "\n",
       "       [[2],\n",
       "        [3]]])"
      ]
     },
     "execution_count": 47,
     "metadata": {},
     "output_type": "execute_result"
    }
   ],
   "source": [
    "for s in \"abc0123, \":\n",
    "    print(ord(s))\n",
    "    \n",
    "[[1, 2],[3, 4]][0][:]\n",
    "np.array([np.array([1, 2]), np.array([3, 4])])\n",
    "\n",
    "\n",
    "np.array([[1, 2],[2, 3]]).reshape(2, 2, 1)"
   ]
  }
 ],
 "metadata": {
  "kernelspec": {
   "display_name": "Python 3 (ipykernel)",
   "language": "python",
   "name": "python3"
  },
  "language_info": {
   "codemirror_mode": {
    "name": "ipython",
    "version": 3
   },
   "file_extension": ".py",
   "mimetype": "text/x-python",
   "name": "python",
   "nbconvert_exporter": "python",
   "pygments_lexer": "ipython3",
   "version": "3.8.6"
  }
 },
 "nbformat": 4,
 "nbformat_minor": 5
}
