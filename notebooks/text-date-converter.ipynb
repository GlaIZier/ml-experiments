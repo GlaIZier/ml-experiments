{
 "cells": [
  {
   "cell_type": "code",
   "execution_count": 39,
   "id": "2a007ff6-daff-4ee6-a878-93d0fd754189",
   "metadata": {},
   "outputs": [
    {
     "data": {
      "text/plain": [
       "array([['June 24, 4455', '4455-06-24'],\n",
       "       ['December 10, 5228', '5228-12-10']], dtype='<U17')"
      ]
     },
     "execution_count": 39,
     "metadata": {},
     "output_type": "execute_result"
    }
   ],
   "source": [
    "import argparse \n",
    "import datetime\n",
    "import random\n",
    "\n",
    "import numpy as np\n",
    "import tensorflow as tf\n",
    "\n",
    "\n",
    "args = argparse.Namespace()\n",
    "args.seed = 101\n",
    "\n",
    "def random_date_pair_gen():\n",
    "    yield \"April 22, 1990\", \"1990-04-22\"\n",
    "    \n",
    "def random_date_output():\n",
    "    ordinal_min = datetime.date(1000, 1, 1).toordinal()\n",
    "    ordinal_max = datetime.date(9999, 12, 31).toordinal()\n",
    "    return datetime.date.fromordinal(random.randint(ordinal_min, ordinal_max))\n",
    "\n",
    "def output_date_to_input(date):\n",
    "    months = [\"January\", \"February\", \"March\", \"April\", \"May\", \"June\",\n",
    "          \"July\", \"August\", \"September\", \"October\", \"November\", \"December\"]\n",
    "    \n",
    "    return \"{} {}, {}\".format(months[date.month - 1], date.day, date.year)\n",
    "\n",
    "def date_to_np():\n",
    "    return ()\n",
    "\n",
    "def input_date_to_np(date):\n",
    "    return np.array([1, 2, 3, 4, 5])\n",
    "\n",
    "def output_date_to_np(date):\n",
    "    return np.array([0, 2, 3])\n",
    "\n",
    "def gen_dataset(dates_num):\n",
    "    dataset = []\n",
    "    for i in range(dates_num):\n",
    "        rd = random_date_output()\n",
    "        ird = output_date_to_input(rd)\n",
    "        dataset.append([ird, str(rd)])\n",
    "    return dataset\n",
    "\n",
    "\n",
    "np.array(gen_dataset(2))\n",
    "\n",
    "# dataset = tf.data.Dataset.range(2).map(lambda _: random_date_pair()).\n",
    "\n",
    "# # dataset = tf.data.Dataset.from_generator(random_date_pair_gen)\n",
    "# for d in dataset:\n",
    "#     print(d)"
   ]
  },
  {
   "cell_type": "code",
   "execution_count": 34,
   "id": "a2a68093-fea2-40ca-9a66-53a3ac423f12",
   "metadata": {},
   "outputs": [
    {
     "data": {
      "text/plain": [
       "'1'"
      ]
     },
     "execution_count": 34,
     "metadata": {},
     "output_type": "execute_result"
    }
   ],
   "source": [
    "\"{}\".format(1)"
   ]
  }
 ],
 "metadata": {
  "kernelspec": {
   "display_name": "Python 3 (ipykernel)",
   "language": "python",
   "name": "python3"
  },
  "language_info": {
   "codemirror_mode": {
    "name": "ipython",
    "version": 3
   },
   "file_extension": ".py",
   "mimetype": "text/x-python",
   "name": "python",
   "nbconvert_exporter": "python",
   "pygments_lexer": "ipython3",
   "version": "3.8.6"
  }
 },
 "nbformat": 4,
 "nbformat_minor": 5
}
