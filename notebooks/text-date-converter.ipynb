{
 "cells": [
  {
   "cell_type": "code",
   "execution_count": 155,
   "id": "2a007ff6-daff-4ee6-a878-93d0fd754189",
   "metadata": {},
   "outputs": [
    {
     "name": "stdout",
     "output_type": "stream",
     "text": [
      "10\n"
     ]
    }
   ],
   "source": [
    "import argparse \n",
    "import datetime\n",
    "import random\n",
    "\n",
    "import numpy as np\n",
    "import tensorflow as tf\n",
    "\n",
    "\n",
    "args = argparse.Namespace()\n",
    "args.seed = 101\n",
    "args.epochs = 20\n",
    "args.batch_size = 32\n",
    "    \n",
    "def random_date_output():\n",
    "    ordinal_min = datetime.date(1000, 1, 1).toordinal()\n",
    "    ordinal_max = datetime.date(9999, 12, 31).toordinal()\n",
    "    return datetime.date.fromordinal(random.randint(ordinal_min, ordinal_max))\n",
    "\n",
    "def output_date_to_input(date) -> str:\n",
    "    months = [\"January\", \"February\", \"March\", \"April\", \"May\", \"June\",\n",
    "          \"July\", \"August\", \"September\", \"October\", \"November\", \"December\"]\n",
    "    \n",
    "    return \"{} {}, {}\".format(months[date.month - 1], date.day, date.year)\n",
    "\n",
    "\n",
    "def date_to_np(str_date):\n",
    "    str_date = str_date.lower()\n",
    "    return np.array([ord(s) for s in str_date])\n",
    "\n",
    "def output_date_to_np(str_date):\n",
    "    return np.array([10 if s=='-' else int(s) for s in str_date])\n",
    "\n",
    "def input_tensor_to_date(np_date):\n",
    "    date_str = \"\".join([chr(i) for i in np_date])\n",
    "    return date_str[0].upper() + date_str[1:]\n",
    "\n",
    "def output_tensor_to_date(tensor_date):\n",
    "    return \"\".join([\"-\" if i==10 else str(i.numpy()) for i in tensor_date])\n",
    "\n",
    "def prediction_to_output_tensor(prediction):\n",
    "    return tf.argmax(prediction, axis=1)\n",
    "\n",
    "def build_dataset(dates_num):\n",
    "    dataset = []\n",
    "    input_list = []\n",
    "    output_list = []\n",
    "    for i in range(dates_num):\n",
    "        rd = random_date_output()\n",
    "        ird = output_date_to_input(rd)\n",
    "        ird = date_to_np(ird)\n",
    "        rd = output_date_to_np(str(rd))\n",
    "        input_list.append(ird.tolist())\n",
    "        output_list.append(rd.tolist())\n",
    "        dataset.append([ird, rd])\n",
    "    # print(input_list)\n",
    "    # print(output_list)\n",
    "    dataset = np.array(dataset, dtype=object)\n",
    "    \n",
    "    # return dataset[:, 0], dataset[:, 1]\n",
    "    return tf.ragged.constant(input_list), tf.constant(output_list)\n",
    "\n",
    "\n",
    "train_dataset = build_dataset(20000)\n",
    "val_dataset = build_dataset(10000)\n",
    "\n",
    "max_int_len = ord(\"z\")\n",
    "max_out_len = len(train_dataset[1][0])\n",
    "out_num = 11\n",
    "print(max_out)\n",
    "# train_dataset\n",
    "# np.vstack(train_dataset[1])"
   ]
  },
  {
   "cell_type": "code",
   "execution_count": 113,
   "id": "2f9dd2c4-05d4-4eeb-94dc-736fd144e555",
   "metadata": {},
   "outputs": [
    {
     "name": "stdout",
     "output_type": "stream",
     "text": [
      "Model: \"sequential_82\"\n",
      "_________________________________________________________________\n",
      " Layer (type)                Output Shape              Param #   \n",
      "=================================================================\n",
      " sequential_80 (Sequential)  (None, 64)                28736     \n",
      "                                                                 \n",
      " sequential_81 (Sequential)  (None, 10, 11)            33739     \n",
      "                                                                 \n",
      "=================================================================\n",
      "Total params: 62,475\n",
      "Trainable params: 62,475\n",
      "Non-trainable params: 0\n",
      "_________________________________________________________________\n",
      "Epoch 1/20\n"
     ]
    },
    {
     "name": "stderr",
     "output_type": "stream",
     "text": [
      "/Users/mkhokhlush/github/ml-experiments/.venv/lib/python3.8/site-packages/tensorflow/python/framework/indexed_slices.py:448: UserWarning: Converting sparse IndexedSlices(IndexedSlices(indices=Tensor(\"gradient_tape/sequential_82/sequential_80/lstm_57/RaggedToTensor/boolean_mask_1/GatherV2:0\", shape=(None,), dtype=int32), values=Tensor(\"gradient_tape/sequential_82/sequential_80/lstm_57/RaggedToTensor/boolean_mask/GatherV2:0\", shape=(None, 32), dtype=float32), dense_shape=Tensor(\"gradient_tape/sequential_82/sequential_80/lstm_57/RaggedToTensor/Shape:0\", shape=(2,), dtype=int32))) to a dense Tensor of unknown shape. This may consume a large amount of memory.\n",
      "  warnings.warn(\n"
     ]
    },
    {
     "name": "stdout",
     "output_type": "stream",
     "text": [
      "625/625 [==============================] - 10s 11ms/step - loss: 1.5396 - accuracy: 0.4651 - val_loss: 1.0036 - val_accuracy: 0.6458 - lr: 0.0010\n",
      "Epoch 2/20\n",
      "625/625 [==============================] - 6s 10ms/step - loss: 0.7990 - accuracy: 0.7195 - val_loss: 0.6078 - val_accuracy: 0.7851 - lr: 0.0010\n",
      "Epoch 3/20\n",
      "625/625 [==============================] - 6s 10ms/step - loss: 0.5165 - accuracy: 0.8245 - val_loss: 0.3618 - val_accuracy: 0.8745 - lr: 0.0010\n",
      "Epoch 4/20\n",
      "625/625 [==============================] - 6s 10ms/step - loss: 0.2834 - accuracy: 0.9066 - val_loss: 0.2174 - val_accuracy: 0.9333 - lr: 0.0010\n",
      "Epoch 5/20\n",
      "625/625 [==============================] - 6s 10ms/step - loss: 0.2517 - accuracy: 0.9289 - val_loss: 0.1399 - val_accuracy: 0.9639 - lr: 0.0010\n",
      "Epoch 6/20\n",
      "625/625 [==============================] - 6s 10ms/step - loss: 0.1383 - accuracy: 0.9691 - val_loss: 0.0826 - val_accuracy: 0.9837 - lr: 0.0010\n",
      "Epoch 7/20\n",
      "625/625 [==============================] - 6s 10ms/step - loss: 0.0597 - accuracy: 0.9901 - val_loss: 0.0472 - val_accuracy: 0.9925 - lr: 0.0010\n",
      "Epoch 8/20\n",
      "625/625 [==============================] - 7s 10ms/step - loss: 0.0602 - accuracy: 0.9896 - val_loss: 0.0335 - val_accuracy: 0.9956 - lr: 0.0010\n",
      "Epoch 9/20\n",
      "625/625 [==============================] - 6s 10ms/step - loss: 0.0237 - accuracy: 0.9977 - val_loss: 0.0206 - val_accuracy: 0.9978 - lr: 0.0010\n",
      "Epoch 10/20\n",
      "625/625 [==============================] - 6s 10ms/step - loss: 0.0149 - accuracy: 0.9992 - val_loss: 0.0135 - val_accuracy: 0.9990 - lr: 0.0010\n",
      "Epoch 11/20\n",
      "625/625 [==============================] - 7s 10ms/step - loss: 0.0099 - accuracy: 0.9996 - val_loss: 0.0122 - val_accuracy: 0.9984 - lr: 0.0010\n",
      "Epoch 12/20\n",
      "625/625 [==============================] - 6s 10ms/step - loss: 0.0251 - accuracy: 0.9958 - val_loss: 0.0095 - val_accuracy: 0.9994 - lr: 0.0010\n",
      "Epoch 13/20\n",
      "625/625 [==============================] - 6s 10ms/step - loss: 0.0059 - accuracy: 0.9999 - val_loss: 0.0053 - val_accuracy: 0.9998 - lr: 0.0010\n",
      "Epoch 14/20\n",
      "625/625 [==============================] - 6s 10ms/step - loss: 0.0037 - accuracy: 1.0000 - val_loss: 0.0037 - val_accuracy: 0.9999 - lr: 0.0010\n",
      "Epoch 15/20\n",
      "625/625 [==============================] - 6s 10ms/step - loss: 0.0026 - accuracy: 1.0000 - val_loss: 0.0027 - val_accuracy: 0.9999 - lr: 0.0010\n",
      "Epoch 16/20\n",
      "625/625 [==============================] - 7s 10ms/step - loss: 0.0019 - accuracy: 1.0000 - val_loss: 0.0020 - val_accuracy: 1.0000 - lr: 0.0010\n",
      "Epoch 17/20\n",
      "625/625 [==============================] - 6s 10ms/step - loss: 0.0013 - accuracy: 1.0000 - val_loss: 0.0015 - val_accuracy: 1.0000 - lr: 0.0010\n",
      "Epoch 18/20\n",
      "625/625 [==============================] - 7s 10ms/step - loss: 9.7109e-04 - accuracy: 1.0000 - val_loss: 0.0011 - val_accuracy: 1.0000 - lr: 0.0010\n",
      "Epoch 19/20\n",
      "625/625 [==============================] - 6s 10ms/step - loss: 7.0178e-04 - accuracy: 1.0000 - val_loss: 8.1247e-04 - val_accuracy: 1.0000 - lr: 0.0010\n",
      "Epoch 20/20\n",
      "625/625 [==============================] - 6s 10ms/step - loss: 4.9857e-04 - accuracy: 1.0000 - val_loss: 5.8463e-04 - val_accuracy: 1.0000 - lr: 0.0010\n"
     ]
    },
    {
     "data": {
      "text/plain": [
       "<keras.callbacks.History at 0x153aa04f0>"
      ]
     },
     "execution_count": 113,
     "metadata": {},
     "output_type": "execute_result"
    }
   ],
   "source": [
    "encoder = tf.keras.models.Sequential([\n",
    "    tf.keras.layers.Embedding(max_int, 32, input_shape=[None]),\n",
    "    tf.keras.layers.LSTM(64, return_sequences=False)])\n",
    "\n",
    "# RepeatVector is a must. we translate +- 17 words seq into 10 words seq. return_sequences = True for encoder leads up to 17 words output\n",
    "# with return_sequences = False, it won't be possible to reconstruct a full seq, but one letter.\n",
    "decoder = tf.keras.models.Sequential([\n",
    "    tf.keras.layers.RepeatVector(max_out_len),\n",
    "    tf.keras.layers.LSTM(64, return_sequences=True),\n",
    "    tf.keras.layers.Dense(out_num, activation=\"softmax\")])\n",
    "model = tf.keras.models.Sequential([encoder, decoder])\n",
    "\n",
    "model.compile(optimizer=tf.keras.optimizers.Nadam(learning_rate=1e-3),\n",
    "          loss='sparse_categorical_crossentropy',\n",
    "          metrics=['accuracy'])\n",
    "monitor='val_loss'\n",
    "early_stopping = tf.keras.callbacks.EarlyStopping(monitor=monitor, patience=3, mode='auto', restore_best_weights=True, verbose=1)\n",
    "reduce_lr_on_plateau = tf.keras.callbacks.ReduceLROnPlateau(monitor=monitor, factor=0.1, patience=2, min_delta=1e-4, mode='auto', verbose=1)\n",
    "model.summary()\n",
    "model.fit(train_dataset[0], train_dataset[1], batch_size=args.batch_size, epochs=args.epochs, validation_data=(val_dataset[0], val_dataset[1]), callbacks=[early_stopping, reduce_lr_on_plateau])\n",
    "\n",
    "\n",
    "# print(train_dataset[0][0])\n",
    "# print(train_dataset[0][0].reshape(1, -1, 1).shape)\n",
    "# model(train_dataset[0][0].reshape(1, -1, 1))\n",
    "\n",
    "# print(train_dataset[0])\n",
    "# print(train_dataset[0][0].reshape(2, -1, 1).shape)\n",
    "# model(train_dataset[0])"
   ]
  },
  {
   "cell_type": "code",
   "execution_count": 158,
   "id": "3f9e59a6-a124-4067-8373-df59c823226f",
   "metadata": {},
   "outputs": [
    {
     "name": "stdout",
     "output_type": "stream",
     "text": [
      "tf.Tensor([100 101  99 101 109  98 101 114  32  52  44  32  57  55  50  50], shape=(16,), dtype=int32)\n",
      "December 4, 9722\n",
      "tf.Tensor([ 9  7  2  2 10  1  2 10  0  4], shape=(10,), dtype=int64)\n",
      "9722-12-04\n"
     ]
    }
   ],
   "source": [
    "print(val_dataset[0][2])\n",
    "print(input_tensor_to_date(val_dataset[0][2]))\n",
    "prediction = model(val_dataset[0])[2]\n",
    "output_tensor = prediction_to_output_tensor(prediction)\n",
    "print(output_tensor)\n",
    "print(output_tensor_to_date(output_tensor))"
   ]
  },
  {
   "cell_type": "code",
   "execution_count": 154,
   "id": "a2a68093-fea2-40ca-9a66-53a3ac423f12",
   "metadata": {},
   "outputs": [
    {
     "name": "stdout",
     "output_type": "stream",
     "text": [
      "97\n",
      "98\n",
      "99\n",
      "48\n",
      "49\n",
      "50\n",
      "51\n",
      "44\n",
      "32\n"
     ]
    },
    {
     "data": {
      "text/plain": [
       "'123'"
      ]
     },
     "execution_count": 154,
     "metadata": {},
     "output_type": "execute_result"
    }
   ],
   "source": [
    "for s in \"abc0123, \":\n",
    "    print(ord(s))\n",
    "    \n",
    "[[1, 2],[3, 4]][0][:]\n",
    "np.array([np.array([1, 2]), np.array([3, 4])])\n",
    "\n",
    "tf.argmax(tf.constant([[1, 2, 3], [2, 3, 4]]), axis=1)\n",
    "\"\".join([\"-\" if i==10 else str(i.numpy()) for i in tf.constant([1, 2, 3])])"
   ]
  }
 ],
 "metadata": {
  "kernelspec": {
   "display_name": "Python 3 (ipykernel)",
   "language": "python",
   "name": "python3"
  },
  "language_info": {
   "codemirror_mode": {
    "name": "ipython",
    "version": 3
   },
   "file_extension": ".py",
   "mimetype": "text/x-python",
   "name": "python",
   "nbconvert_exporter": "python",
   "pygments_lexer": "ipython3",
   "version": "3.8.6"
  }
 },
 "nbformat": 4,
 "nbformat_minor": 5
}
