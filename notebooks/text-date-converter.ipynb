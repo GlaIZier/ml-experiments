{
 "cells": [
  {
   "cell_type": "code",
   "execution_count": 65,
   "id": "2a007ff6-daff-4ee6-a878-93d0fd754189",
   "metadata": {},
   "outputs": [
    {
     "name": "stdout",
     "output_type": "stream",
     "text": [
      "4988-02-18\n",
      "February 18, 4988\n",
      "2885-08-24\n",
      "August 24, 2885\n",
      "[[array([102, 101,  98, 114, 117,  97, 114, 121,  32,  49,  56,  44,  32,\n",
      "        52,  57,  56,  56]), array([52, 57, 56, 56, 45, 48, 50, 45, 49, 56])], [array([ 97, 117, 103, 117, 115, 116,  32,  50,  52,  44,  32,  50,  56,\n",
      "        56,  53]), array([50, 56, 56, 53, 45, 48, 56, 45, 50, 52])]]\n",
      "10\n"
     ]
    },
    {
     "data": {
      "text/plain": [
       "array([[52, 57, 56, 56, 45, 48, 50, 45, 49, 56],\n",
       "       [50, 56, 56, 53, 45, 48, 56, 45, 50, 52]])"
      ]
     },
     "execution_count": 65,
     "metadata": {},
     "output_type": "execute_result"
    }
   ],
   "source": [
    "import argparse \n",
    "import datetime\n",
    "import random\n",
    "\n",
    "import numpy as np\n",
    "import tensorflow as tf\n",
    "\n",
    "\n",
    "args = argparse.Namespace()\n",
    "args.seed = 101\n",
    "    \n",
    "def random_date_output():\n",
    "    ordinal_min = datetime.date(1000, 1, 1).toordinal()\n",
    "    ordinal_max = datetime.date(9999, 12, 31).toordinal()\n",
    "    return datetime.date.fromordinal(random.randint(ordinal_min, ordinal_max))\n",
    "\n",
    "def output_date_to_input(date) -> str:\n",
    "    months = [\"January\", \"February\", \"March\", \"April\", \"May\", \"June\",\n",
    "          \"July\", \"August\", \"September\", \"October\", \"November\", \"December\"]\n",
    "    \n",
    "    return \"{} {}, {}\".format(months[date.month - 1], date.day, date.year)\n",
    "\n",
    "\n",
    "def date_to_np(str_date):\n",
    "    str_date = str_date.lower()\n",
    "    return np.array([ord(s) for s in str_date])\n",
    "\n",
    "def np_to_date(np_date):\n",
    "    return \"\".join([chr(i) for i in np_date.tolist()])\n",
    "\n",
    "def build_dataset(dates_num):\n",
    "    dataset = []\n",
    "    for i in range(dates_num):\n",
    "        rd = random_date_output()\n",
    "        ird = date_to_np(ird)\n",
    "        rd = date_to_np(str(rd))\n",
    "        dataset.append([ird, rd])\n",
    "    print(dataset)\n",
    "    dataset = np.array(dataset, dtype=object)\n",
    "    \n",
    "    return dataset[:, 0], dataset[:, 1]\n",
    "\n",
    "\n",
    "train_dataset = build_dataset(2)\n",
    "\n",
    "max_int = ord(\"z\")\n",
    "max_out = len(train_dataset[1][0])\n",
    "print(max_out)\n",
    "np.vstack(train_dataset[1])"
   ]
  },
  {
   "cell_type": "code",
   "execution_count": 71,
   "id": "2f9dd2c4-05d4-4eeb-94dc-736fd144e555",
   "metadata": {},
   "outputs": [
    {
     "name": "stdout",
     "output_type": "stream",
     "text": [
      "[102 101  98 114 117  97 114 121  32  49  56  44  32  52  57  56  56]\n",
      "(1, 17, 1)\n"
     ]
    },
    {
     "data": {
      "text/plain": [
       "<tf.Tensor: shape=(1, 10, 10), dtype=float32, numpy=\n",
       "array([[[0.10001118, 0.09970993, 0.09975288, 0.09997715, 0.0999609 ,\n",
       "         0.1003198 , 0.10031091, 0.09973931, 0.10002424, 0.10019369],\n",
       "        [0.10004088, 0.09948818, 0.09957163, 0.09997538, 0.09993156,\n",
       "         0.10054076, 0.1005265 , 0.09956378, 0.10001665, 0.1003447 ],\n",
       "        [0.1000817 , 0.09931858, 0.09944253, 0.09998459, 0.09991316,\n",
       "         0.10069104, 0.10067393, 0.0994428 , 0.0999928 , 0.10045887],\n",
       "        [0.10012773, 0.09918852, 0.0993531 , 0.09999905, 0.09990476,\n",
       "         0.10079169, 0.10077304, 0.09935717, 0.09996195, 0.10054298],\n",
       "        [0.10017464, 0.09908835, 0.0992929 , 0.10001548, 0.09990451,\n",
       "         0.1008581 , 0.10083825, 0.09929477, 0.0999294 , 0.10060353],\n",
       "        [0.10021951, 0.09901079, 0.09925371, 0.10003209, 0.09991031,\n",
       "         0.10090136, 0.10087994, 0.099248  , 0.0998981 , 0.10064622],\n",
       "        [0.10026054, 0.09895035, 0.09922922, 0.10004786, 0.09992018,\n",
       "         0.10092923, 0.10090549, 0.09921195, 0.0998695 , 0.10067573],\n",
       "        [0.10029683, 0.09890293, 0.09921478, 0.10006228, 0.09993245,\n",
       "         0.10094709, 0.10092014, 0.09918351, 0.09984422, 0.10069577],\n",
       "        [0.10032806, 0.09886552, 0.09920706, 0.10007516, 0.09994581,\n",
       "         0.1009586 , 0.10092758, 0.09916064, 0.0998224 , 0.10070916],\n",
       "        [0.10035435, 0.09883585, 0.09920368, 0.10008644, 0.09995928,\n",
       "         0.10096617, 0.10093035, 0.09914199, 0.09980391, 0.10071795]]],\n",
       "      dtype=float32)>"
      ]
     },
     "execution_count": 71,
     "metadata": {},
     "output_type": "execute_result"
    }
   ],
   "source": [
    "encoder = tf.keras.models.Sequential([\n",
    "    tf.keras.layers.Embedding(max_int, 32, input_shape=[None]),\n",
    "    tf.keras.layers.LSTM(64, return_sequences=False)])\n",
    "\n",
    "# RepeatVector is a must. we translate +- 17 words seq into 10 words seq. return_sequences = True for encoder leads up to 17 words output\n",
    "# with return_sequences = False, it won't be possible to reconstruct a full seq, but one letter.\n",
    "decoder = tf.keras.models.Sequential([\n",
    "    tf.keras.layers.RepeatVector(max_out),\n",
    "    tf.keras.layers.LSTM(64, return_sequences=True),\n",
    "    tf.keras.layers.Dense(max_out, activation=\"softmax\")])\n",
    "model = tf.keras.models.Sequential([encoder, decoder])\n",
    "\n",
    "print(train_dataset[0][0])\n",
    "print(train_dataset[0][0].reshape(1, -1, 1).shape)\n",
    "model(train_dataset[0][0].reshape(1, -1, 1))"
   ]
  },
  {
   "cell_type": "code",
   "execution_count": 47,
   "id": "a2a68093-fea2-40ca-9a66-53a3ac423f12",
   "metadata": {},
   "outputs": [
    {
     "name": "stdout",
     "output_type": "stream",
     "text": [
      "97\n",
      "98\n",
      "99\n",
      "48\n",
      "49\n",
      "50\n",
      "51\n",
      "44\n",
      "32\n"
     ]
    },
    {
     "data": {
      "text/plain": [
       "array([[[1],\n",
       "        [2]],\n",
       "\n",
       "       [[2],\n",
       "        [3]]])"
      ]
     },
     "execution_count": 47,
     "metadata": {},
     "output_type": "execute_result"
    }
   ],
   "source": [
    "for s in \"abc0123, \":\n",
    "    print(ord(s))\n",
    "    \n",
    "[[1, 2],[3, 4]][0][:]\n",
    "np.array([np.array([1, 2]), np.array([3, 4])])\n",
    "\n",
    "\n",
    "np.array([[1, 2],[2, 3]]).reshape(2, 2, 1)"
   ]
  }
 ],
 "metadata": {
  "kernelspec": {
   "display_name": "Python 3 (ipykernel)",
   "language": "python",
   "name": "python3"
  },
  "language_info": {
   "codemirror_mode": {
    "name": "ipython",
    "version": 3
   },
   "file_extension": ".py",
   "mimetype": "text/x-python",
   "name": "python",
   "nbconvert_exporter": "python",
   "pygments_lexer": "ipython3",
   "version": "3.8.6"
  }
 },
 "nbformat": 4,
 "nbformat_minor": 5
}
