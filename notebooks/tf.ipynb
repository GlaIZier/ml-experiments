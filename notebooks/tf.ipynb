{
 "cells": [
  {
   "cell_type": "code",
   "execution_count": 14,
   "id": "9e3f8156",
   "metadata": {},
   "outputs": [
    {
     "data": {
      "text/plain": [
       "'2.4.1'"
      ]
     },
     "execution_count": 14,
     "metadata": {},
     "output_type": "execute_result"
    }
   ],
   "source": [
    "import logging\n",
    "import tensorflow as tf\n",
    "import keras\n",
    "\n",
    "logging.basicConfig(format='%(asctime)s : %(levelname)s : %(message)s', level=logging.INFO)\n",
    "log = logging.getLogger()\n",
    "\n",
    "%config Completer.use_jedi = False # make autocompletion works in jupyter\n",
    "\n",
    "tf.__version__"
   ]
  },
  {
   "cell_type": "code",
   "execution_count": 2,
   "id": "98241968",
   "metadata": {},
   "outputs": [
    {
     "name": "stderr",
     "output_type": "stream",
     "text": [
      "2021-04-14 15:03:48,331 : INFO : Load pre-computed DatasetInfo (eg: splits, num examples,...) from GCS: fashion_mnist/3.0.1\n",
      "2021-04-14 15:03:50,042 : INFO : Load dataset info from /var/folders/g9/6qklj4h53bv0c1rjnffg7bmw0000gp/T/tmp4c9gdwt6tfds\n",
      "2021-04-14 15:03:50,044 : INFO : Field info.citation from disk and from code do not match. Keeping the one from code.\n",
      "2021-04-14 15:03:50,044 : INFO : Field info.splits from disk and from code do not match. Keeping the one from code.\n",
      "2021-04-14 15:03:50,045 : INFO : Field info.module_name from disk and from code do not match. Keeping the one from code.\n",
      "2021-04-14 15:03:50,045 : INFO : Generating dataset fashion_mnist (/Users/mkhokhlush/tensorflow_datasets/fashion_mnist/3.0.1)\n"
     ]
    },
    {
     "name": "stdout",
     "output_type": "stream",
     "text": [
      "\u001b[1mDownloading and preparing dataset 29.45 MiB (download: 29.45 MiB, generated: 36.42 MiB, total: 65.87 MiB) to /Users/mkhokhlush/tensorflow_datasets/fashion_mnist/3.0.1...\u001b[0m\n"
     ]
    },
    {
     "data": {
      "application/vnd.jupyter.widget-view+json": {
       "model_id": "d2094fe0f0984a709162bba309745b47",
       "version_major": 2,
       "version_minor": 0
      },
      "text/plain": [
       "Dl Completed...: 0 url [00:00, ? url/s]"
      ]
     },
     "metadata": {},
     "output_type": "display_data"
    },
    {
     "data": {
      "application/vnd.jupyter.widget-view+json": {
       "model_id": "849cbdb9be4e4645a5b72e7ba6a84a41",
       "version_major": 2,
       "version_minor": 0
      },
      "text/plain": [
       "Dl Size...: 0 MiB [00:00, ? MiB/s]"
      ]
     },
     "metadata": {},
     "output_type": "display_data"
    },
    {
     "data": {
      "application/vnd.jupyter.widget-view+json": {
       "model_id": "f2140d9664784610945235fab2601ac0",
       "version_major": 2,
       "version_minor": 0
      },
      "text/plain": [
       "Extraction completed...: 0 file [00:00, ? file/s]"
      ]
     },
     "metadata": {},
     "output_type": "display_data"
    },
    {
     "name": "stderr",
     "output_type": "stream",
     "text": [
      "2021-04-14 15:03:50,707 : INFO : Downloading http://fashion-mnist.s3-website.eu-central-1.amazonaws.com/t10k-images-idx3-ubyte.gz into /Users/mkhokhlush/tensorflow_datasets/downloads/fashion-mnist_t10k-images-idx3-ubyteyV4WnuqNmQF47IBdH9-pBYREBMj1p4i_oh_5uwJLhs4.gz.tmp.7297e455b6294821be58e2a38b17cacf...\n",
      "2021-04-14 15:03:50,710 : INFO : Downloading http://fashion-mnist.s3-website.eu-central-1.amazonaws.com/t10k-labels-idx1-ubyte.gz into /Users/mkhokhlush/tensorflow_datasets/downloads/fashion-mnist_t10k-labels-idx1-ubyteWIx2vbeupVwuC1IZrafeRP8BmU1YnGvpdpIr8MSH-BE.gz.tmp.1db6327cecbb4748bbb0a330f9990c7b...\n",
      "2021-04-14 15:03:50,715 : INFO : Downloading http://fashion-mnist.s3-website.eu-central-1.amazonaws.com/train-images-idx3-ubyte.gz into /Users/mkhokhlush/tensorflow_datasets/downloads/fashion-mnist_train-images-idx3-ubytepR2BibiiUp2twRbpoktblvl2KbaPDel0VUV9KrXm91Y.gz.tmp.36d27070315b49e1a4a845e32130bee7...\n",
      "2021-04-14 15:03:50,720 : INFO : Downloading http://fashion-mnist.s3-website.eu-central-1.amazonaws.com/train-labels-idx1-ubyte.gz into /Users/mkhokhlush/tensorflow_datasets/downloads/fashion-mnist_train-labels-idx1-ubyteNtjHgOBhuGIZdnubvkATY1_ZNiwd9ghHz7h_bkSevRs.gz.tmp.d3ac89d7535f4ddb85ac8079a0657b69...\n"
     ]
    },
    {
     "name": "stdout",
     "output_type": "stream",
     "text": [
      "\n",
      "\n",
      "\n"
     ]
    },
    {
     "data": {
      "application/vnd.jupyter.widget-view+json": {
       "model_id": "",
       "version_major": 2,
       "version_minor": 0
      },
      "text/plain": [
       "Generating splits...:   0%|          | 0/2 [00:00<?, ? splits/s]"
      ]
     },
     "metadata": {},
     "output_type": "display_data"
    },
    {
     "data": {
      "application/vnd.jupyter.widget-view+json": {
       "model_id": "",
       "version_major": 2,
       "version_minor": 0
      },
      "text/plain": [
       "Generating train examples...:   0%|          | 0/60000 [00:00<?, ? examples/s]"
      ]
     },
     "metadata": {},
     "output_type": "display_data"
    },
    {
     "data": {
      "application/vnd.jupyter.widget-view+json": {
       "model_id": "",
       "version_major": 2,
       "version_minor": 0
      },
      "text/plain": [
       "Shuffling fashion_mnist-train.tfrecord...:   0%|          | 0/60000 [00:00<?, ? examples/s]"
      ]
     },
     "metadata": {},
     "output_type": "display_data"
    },
    {
     "name": "stderr",
     "output_type": "stream",
     "text": [
      "2021-04-14 15:04:30,273 : INFO : Done writing fashion_mnist-train.tfrecord. Number of examples: 60000 (shards: [60000])\n"
     ]
    },
    {
     "data": {
      "application/vnd.jupyter.widget-view+json": {
       "model_id": "",
       "version_major": 2,
       "version_minor": 0
      },
      "text/plain": [
       "Generating test examples...:   0%|          | 0/10000 [00:00<?, ? examples/s]"
      ]
     },
     "metadata": {},
     "output_type": "display_data"
    },
    {
     "data": {
      "application/vnd.jupyter.widget-view+json": {
       "model_id": "",
       "version_major": 2,
       "version_minor": 0
      },
      "text/plain": [
       "Shuffling fashion_mnist-test.tfrecord...:   0%|          | 0/10000 [00:00<?, ? examples/s]"
      ]
     },
     "metadata": {},
     "output_type": "display_data"
    },
    {
     "name": "stderr",
     "output_type": "stream",
     "text": [
      "2021-04-14 15:04:33,014 : INFO : Done writing fashion_mnist-test.tfrecord. Number of examples: 10000 (shards: [10000])\n",
      "2021-04-14 15:04:33,019 : INFO : Constructing tf.data.Dataset for split None, from /Users/mkhokhlush/tensorflow_datasets/fashion_mnist/3.0.1\n"
     ]
    },
    {
     "name": "stdout",
     "output_type": "stream",
     "text": [
      "\u001b[1mDataset fashion_mnist downloaded and prepared to /Users/mkhokhlush/tensorflow_datasets/fashion_mnist/3.0.1. Subsequent calls will reuse this data.\u001b[0m\n"
     ]
    },
    {
     "data": {
      "text/plain": [
       "{Split('train'): <PrefetchDataset shapes: {image: (28, 28, 1), label: ()}, types: {image: tf.uint8, label: tf.int64}>,\n",
       " Split('test'): <PrefetchDataset shapes: {image: (28, 28, 1), label: ()}, types: {image: tf.uint8, label: tf.int64}>}"
      ]
     },
     "execution_count": 2,
     "metadata": {},
     "output_type": "execute_result"
    }
   ],
   "source": [
    "import tensorflow_datasets as tfds\n",
    "dataset"
   ]
  },
  {
   "cell_type": "code",
   "execution_count": 29,
   "id": "99fc5767-e124-4f7e-9afa-53e21da606c5",
   "metadata": {},
   "outputs": [
    {
     "name": "stderr",
     "output_type": "stream",
     "text": [
      "2021-04-15 13:57:46,557 : INFO : Load dataset info from /Users/mkhokhlush/tensorflow_datasets/fashion_mnist/3.0.1\n",
      "2021-04-15 13:57:46,559 : INFO : Reusing dataset fashion_mnist (/Users/mkhokhlush/tensorflow_datasets/fashion_mnist/3.0.1)\n",
      "2021-04-15 13:57:46,559 : INFO : Constructing tf.data.Dataset for split None, from /Users/mkhokhlush/tensorflow_datasets/fashion_mnist/3.0.1\n",
      "2021-04-15 13:57:46,606 : INFO : Train dataset len = 48000\n",
      "2021-04-15 13:57:46,607 : INFO : Val dataset len = 12000\n"
     ]
    }
   ],
   "source": [
    "import tensorflow_datasets as tfds\n",
    "from tensorflow.train import Feature, Example, Features, BytesList, Int64List\n",
    "from pathlib import Path\n",
    "\n",
    "def ch13_ex_9():\n",
    "    val_fraction = 0.8\n",
    "    seed = 101\n",
    "    def create_dataset(dataset, data_dir='data/train'):\n",
    "        Path(data_dir).mkdir(parents=True, exist_ok=True)\n",
    "        for i, d in enumerate(dataset):\n",
    "            ser_image = tf.io.serialize_tensor(d['image']).numpy()\n",
    "            image_example = Example(\n",
    "                features=Features(\n",
    "                    feature={\n",
    "                        'image': Feature(bytes_list=BytesList(value=[ser_image])),\n",
    "                        'label': Feature(int64_list=Int64List(value=[d['label']]))\n",
    "                    }\n",
    "                )\n",
    "            )\n",
    "            with tf.io.TFRecordWriter(f'{data_dir}/image{i}.tfrecord') as f:\n",
    "                f.write(image_example.SerializeToString())\n",
    "\n",
    "    dataset = tfds.load(\"fashion_mnist\")\n",
    "    log.info(f'Loaded dataset: {dataset}')\n",
    "    train_idx = int(len(dataset['train']) * val_fraction)\n",
    "    train = dataset['train'].take(train_idx).shuffle(101, seed=seed, reshuffle_each_iteration=True)\n",
    "    log.info(f'Train dataset len: {len(train)}')\n",
    "    val = dataset['train'].skip(train_idx)\n",
    "    log.info(f'Val dataset len: {len(val)}')\n",
    "#     create_dataset(train)\n",
    "    create_dataset(dataset=val, data_dir='data/val')\n",
    "             \n",
    "ch13_ex_9()"
   ]
  }
 ],
 "metadata": {
  "kernelspec": {
   "display_name": "Python 3",
   "language": "python",
   "name": "python3"
  },
  "language_info": {
   "codemirror_mode": {
    "name": "ipython",
    "version": 3
   },
   "file_extension": ".py",
   "mimetype": "text/x-python",
   "name": "python",
   "nbconvert_exporter": "python",
   "pygments_lexer": "ipython3",
   "version": "3.8.6"
  }
 },
 "nbformat": 4,
 "nbformat_minor": 5
}
