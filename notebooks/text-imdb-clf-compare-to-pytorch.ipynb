{
 "cells": [
  {
   "cell_type": "markdown",
   "id": "51fb8c66-6545-4e74-ac5a-883cd31c690b",
   "metadata": {},
   "source": [
    "inspuired by\n",
    "https://www.tensorflow.org/tutorials/keras/text_classification_with_hub\n",
    "https://www.tensorflow.org/tutorials/keras/text_classification\n",
    "https://developers.google.com/machine-learning/guides/text-classification"
   ]
  },
  {
   "cell_type": "code",
   "execution_count": 1,
   "id": "6c536807-d1c3-46bb-96a1-a0d19b29c7ab",
   "metadata": {},
   "outputs": [
    {
     "name": "stderr",
     "output_type": "stream",
     "text": [
      "2023-07-31 12:11:45,329 : INFO : No config specified, defaulting to config: imdb_reviews/plain_text\n",
      "2023-07-31 12:11:45,331 : INFO : Load dataset info from ./data-ignored/imdb/imdb_reviews/plain_text/1.0.0\n",
      "2023-07-31 12:11:45,333 : INFO : Reusing dataset imdb_reviews (./data-ignored/imdb/imdb_reviews/plain_text/1.0.0)\n",
      "2023-07-31 12:11:45,390 : INFO : Constructing tf.data.Dataset imdb_reviews for split None, from ./data-ignored/imdb/imdb_reviews/plain_text/1.0.0\n"
     ]
    },
    {
     "name": "stdout",
     "output_type": "stream",
     "text": [
      "Version:  2.13.0\n",
      "Eager mode:  True\n",
      "GPU is NOT AVAILABLE\n",
      "25000\n",
      "25000\n",
      "(<tf.Tensor: shape=(), dtype=string, numpy=b\"This was an absolutely terrible movie. Don't be lured in by Christopher Walken or Michael Ironside. Both are great actors, but this must simply be their worst role in history. Even their great acting could not redeem this movie's ridiculous storyline. This movie is an early nineties US propaganda piece. The most pathetic scenes were those when the Columbian rebels were making their cases for revolutions. Maria Conchita Alonso appeared phony, and her pseudo-love affair with Walken was nothing but a pathetic emotional plug in a movie that was devoid of any real meaning. I am disappointed that there are movies like this, ruining actor's like Christopher Walken's good name. I could barely sit through it.\">, <tf.Tensor: shape=(), dtype=int64, numpy=0>)\n"
     ]
    },
    {
     "name": "stderr",
     "output_type": "stream",
     "text": [
      "2023-07-31 12:11:45.414297: W tensorflow/core/kernels/data/cache_dataset_ops.cc:854] The calling iterator did not fully read the dataset being cached. In order to avoid unexpected truncation of the dataset, the partially cached contents of the dataset  will be discarded. This can happen if you have an input pipeline similar to `dataset.cache().take(k).repeat()`. You should use `dataset.take(k).cache().repeat()` instead.\n"
     ]
    }
   ],
   "source": [
    "# Todo control logging with debug\n",
    "import logging\n",
    "import argparse \n",
    "from pathlib import Path\n",
    "\n",
    "import matplotlib.pyplot as plt\n",
    "import numpy as np\n",
    "import pandas as pd\n",
    "\n",
    "import tensorflow as tf\n",
    "from tensorflow import keras\n",
    "import tensorflow_datasets as tfds\n",
    "\n",
    "logging.basicConfig(format='%(asctime)s : %(levelname)s : %(message)s', level=logging.INFO)\n",
    "log = logging.getLogger()\n",
    "%config Completer.use_jedi = False # make autocompletion works in jupyter\n",
    "\n",
    "args = argparse.Namespace()\n",
    "args.data_folder = './data-ignored/imdb/'\n",
    "args.val_fraction = 0.25\n",
    "args.vocab_size = 2500\n",
    "args.small_vocab_size = 250\n",
    "args.epochs = 50\n",
    "args.batch_size = 32\n",
    "\n",
    "Path(args.data_folder).mkdir(parents=True, exist_ok=True)\n",
    "\n",
    "print(\"Version: \", tf.__version__)\n",
    "print(\"Eager mode: \", tf.executing_eagerly())\n",
    "print(\"GPU is\", \"available\" if tf.config.list_physical_devices(\"GPU\") else \"NOT AVAILABLE\")\n",
    "\n",
    "ds, info = tfds.load('imdb_reviews', with_info=True, as_supervised=True, data_dir=args.data_folder)\n",
    "train_ds_len= tf.data.experimental.cardinality(ds['train']).numpy()\n",
    "test_ds_len= tf.data.experimental.cardinality(ds['test']).numpy() \n",
    "print(train_ds_len)\n",
    "print(test_ds_len)\n",
    "for d in ds['train'].take(1):\n",
    "    print(d)\n",
    "    \n",
    "# train_dataset = ds['train'].batch(args.batch_size)\n",
    "train_dataset = ds['train']\n",
    "val_dataset = ds['test'].take(int(args.val_fraction * (train_ds_len + test_ds_len)))\n",
    "test_dataset = ds['test'].skip(int(args.val_fraction * (train_ds_len + test_ds_len)))"
   ]
  },
  {
   "cell_type": "markdown",
   "id": "7291fb79-b188-4b19-826f-87c97060bfec",
   "metadata": {},
   "source": [
    "### 1. Bag of words from scratch"
   ]
  },
  {
   "cell_type": "code",
   "execution_count": 2,
   "id": "7a29783a-77e4-42c1-9869-190d1645e908",
   "metadata": {
    "scrolled": true
   },
   "outputs": [
    {
     "name": "stdout",
     "output_type": "stream",
     "text": [
      "one_processed layer: [b'this was an absolutely terrible movie dont be lured in by christopher walken or michael ironside both are great actors but this must simply be their worst role in history even their great acting could not redeem this movies ridiculous storyline this movie is an early nineties us propaganda piece the most pathetic scenes were those when the columbian rebels were making their cases for revolutions maria conchita alonso appeared phony and her pseudolove affair with walken was nothing but a pathetic emotional plug in a movie that was devoid of any real meaning i am disappointed that there are movies like this ruining actors like christopher walkens good name i could barely sit through it'\n",
      " b'i have been known to fall asleep during films but this is usually due to a combination of things including really tired being warm and comfortable on the sette and having just eaten a lot however on this occasion i fell asleep because the film was rubbish the plot development was constant constantly slow and boring things seemed to happen but with no explanation of what was causing them or why i admit i may have missed part of the film but i watched the majority of it and everything just seemed to happen of its own accord without any real concern for anything else i cant recommend this film at all']\n",
      "one_processed model: [b'this was an absolutely terrible movie dont be lured in by christopher walken or michael ironside both are great actors but this must simply be their worst role in history even their great acting could not redeem this movies ridiculous storyline this movie is an early nineties us propaganda piece the most pathetic scenes were those when the columbian rebels were making their cases for revolutions maria conchita alonso appeared phony and her pseudolove affair with walken was nothing but a pathetic emotional plug in a movie that was devoid of any real meaning i am disappointed that there are movies like this ruining actors like christopher walkens good name i could barely sit through it'\n",
      " b'i have been known to fall asleep during films but this is usually due to a combination of things including really tired being warm and comfortable on the sette and having just eaten a lot however on this occasion i fell asleep because the film was rubbish the plot development was constant constantly slow and boring things seemed to happen but with no explanation of what was causing them or why i admit i may have missed part of the film but i watched the majority of it and everything just seemed to happen of its own accord without any real concern for anything else i cant recommend this film at all']\n"
     ]
    },
    {
     "name": "stderr",
     "output_type": "stream",
     "text": [
      "2023-07-31 12:11:50.000623: W tensorflow/core/kernels/data/cache_dataset_ops.cc:854] The calling iterator did not fully read the dataset being cached. In order to avoid unexpected truncation of the dataset, the partially cached contents of the dataset  will be discarded. This can happen if you have an input pipeline similar to `dataset.cache().take(k).repeat()`. You should use `dataset.take(k).cache().repeat()` instead.\n",
      "2023-07-31 12:11:50.026794: W tensorflow/core/kernels/data/cache_dataset_ops.cc:854] The calling iterator did not fully read the dataset being cached. In order to avoid unexpected truncation of the dataset, the partially cached contents of the dataset  will be discarded. This can happen if you have an input pipeline similar to `dataset.cache().take(k).repeat()`. You should use `dataset.take(k).cache().repeat()` instead.\n"
     ]
    }
   ],
   "source": [
    "class OneTextPreprocessing(tf.keras.layers.Layer):\n",
    "    def __init__(self):\n",
    "        super(OneTextPreprocessing, self).__init__()\n",
    "    \n",
    "    def call(self, inputs):\n",
    "        # inputs shape: B, Ragged texts\n",
    "        # print(f\"Type inputs: {type(inputs)}\")\n",
    "        # print(f\"Inputs shape: {inputs.shape}\")\n",
    "        batch_size = tf.shape(inputs)[0]\n",
    "        outputs = tf.TensorArray(dtype=tf.string, size=0, dynamic_size=True)\n",
    "        for i in tf.range(batch_size):\n",
    "            string_tensor = inputs[i]\n",
    "            byte_string = string_tensor.numpy()\n",
    "            # print(f\"byte_string: {byte_string}\")\n",
    "            processed = ''.join(c for c in byte_string.decode('UTF-8').lower() if c.isalnum() or c == \" \")\n",
    "            # print(f\"type(processed): {type(processed)}\")\n",
    "            outputs = outputs.write(i, processed)\n",
    "        stacked_output = outputs.stack()\n",
    "        # print(f\"type(stacked_output): {type(stacked_output)}\")\n",
    "        # print(f\"tf.shape(stacked_output): {tf.shape(stacked_output)}\")\n",
    "        # outputs shape: B, Ragged texts\n",
    "        return stacked_output\n",
    "\n",
    "one_text_preprocessing = OneTextPreprocessing()\n",
    "\n",
    "# for d in train_dataset.batch(args.batch_size).take(1):\n",
    "for d in train_dataset.batch(2).take(1):\n",
    "    one_processed = one_text_preprocessing(d[0])\n",
    "    print(f\"one_processed layer: {one_processed}\")\n",
    "\n",
    "one_model = keras.models.Sequential()\n",
    "one_model.add(one_text_preprocessing)\n",
    "for d in train_dataset.batch(2).take(1):\n",
    "    one_processed = one_model(d[0])\n",
    "    print(f\"one_processed model: {one_processed}\")"
   ]
  },
  {
   "cell_type": "code",
   "execution_count": 3,
   "id": "cf9ce39f-ab02-4c0c-8368-b2951f0d34e1",
   "metadata": {
    "scrolled": true
   },
   "outputs": [
    {
     "name": "stdout",
     "output_type": "stream",
     "text": [
      "two_processed layer: <tf.RaggedTensor [[b'This', b'was', b'an', b'absolutely', b'terrible', b'movie.', b\"Don't\",\n",
      "  b'be', b'lured', b'in', b'by', b'Christopher', b'Walken', b'or',\n",
      "  b'Michael', b'Ironside.', b'Both', b'are', b'great', b'actors,', b'but',\n",
      "  b'this', b'must', b'simply', b'be', b'their', b'worst', b'role', b'in',\n",
      "  b'history.', b'Even', b'their', b'great', b'acting', b'could', b'not',\n",
      "  b'redeem', b'this', b\"movie's\", b'ridiculous', b'storyline.', b'This',\n",
      "  b'movie', b'is', b'an', b'early', b'nineties', b'US', b'propaganda',\n",
      "  b'piece.', b'The', b'most', b'pathetic', b'scenes', b'were', b'those',\n",
      "  b'when', b'the', b'Columbian', b'rebels', b'were', b'making', b'their',\n",
      "  b'cases', b'for', b'revolutions.', b'Maria', b'Conchita', b'Alonso',\n",
      "  b'appeared', b'phony,', b'and', b'her', b'pseudo-love', b'affair',\n",
      "  b'with', b'Walken', b'was', b'nothing', b'but', b'a', b'pathetic',\n",
      "  b'emotional', b'plug', b'in', b'a', b'movie', b'that', b'was', b'devoid',\n",
      "  b'of', b'any', b'real', b'meaning.', b'I', b'am', b'disappointed',\n",
      "  b'that', b'there', b'are', b'movies', b'like', b'this,', b'ruining',\n",
      "  b\"actor's\", b'like', b'Christopher', b\"Walken's\", b'good', b'name.', b'I',\n",
      "  b'could', b'barely', b'sit', b'through', b'it.']                          ,\n",
      " [b'I', b'have', b'been', b'known', b'to', b'fall', b'asleep', b'during',\n",
      "  b'films,', b'but', b'this', b'is', b'usually', b'due', b'to', b'a',\n",
      "  b'combination', b'of', b'things', b'including,', b'really', b'tired,',\n",
      "  b'being', b'warm', b'and', b'comfortable', b'on', b'the', b'sette',\n",
      "  b'and', b'having', b'just', b'eaten', b'a', b'lot.', b'However', b'on',\n",
      "  b'this', b'occasion', b'I', b'fell', b'asleep', b'because', b'the',\n",
      "  b'film', b'was', b'rubbish.', b'The', b'plot', b'development', b'was',\n",
      "  b'constant.', b'Constantly', b'slow', b'and', b'boring.', b'Things',\n",
      "  b'seemed', b'to', b'happen,', b'but', b'with', b'no', b'explanation',\n",
      "  b'of', b'what', b'was', b'causing', b'them', b'or', b'why.', b'I',\n",
      "  b'admit,', b'I', b'may', b'have', b'missed', b'part', b'of', b'the',\n",
      "  b'film,', b'but', b'i', b'watched', b'the', b'majority', b'of', b'it',\n",
      "  b'and', b'everything', b'just', b'seemed', b'to', b'happen', b'of',\n",
      "  b'its', b'own', b'accord', b'without', b'any', b'real', b'concern',\n",
      "  b'for', b'anything', b'else.', b'I', b'cant', b'recommend', b'this',\n",
      "  b'film', b'at', b'all.']                                               ]>\n",
      "two_processed model: <tf.RaggedTensor [[b'this', b'was', b'an', b'absolutely', b'terrible', b'movie', b'dont',\n",
      "  b'be', b'lured', b'in', b'by', b'christopher', b'walken', b'or',\n",
      "  b'michael', b'ironside', b'both', b'are', b'great', b'actors', b'but',\n",
      "  b'this', b'must', b'simply', b'be', b'their', b'worst', b'role', b'in',\n",
      "  b'history', b'even', b'their', b'great', b'acting', b'could', b'not',\n",
      "  b'redeem', b'this', b'movies', b'ridiculous', b'storyline', b'this',\n",
      "  b'movie', b'is', b'an', b'early', b'nineties', b'us', b'propaganda',\n",
      "  b'piece', b'the', b'most', b'pathetic', b'scenes', b'were', b'those',\n",
      "  b'when', b'the', b'columbian', b'rebels', b'were', b'making', b'their',\n",
      "  b'cases', b'for', b'revolutions', b'maria', b'conchita', b'alonso',\n",
      "  b'appeared', b'phony', b'and', b'her', b'pseudolove', b'affair', b'with',\n",
      "  b'walken', b'was', b'nothing', b'but', b'a', b'pathetic', b'emotional',\n",
      "  b'plug', b'in', b'a', b'movie', b'that', b'was', b'devoid', b'of', b'any',\n",
      "  b'real', b'meaning', b'i', b'am', b'disappointed', b'that', b'there',\n",
      "  b'are', b'movies', b'like', b'this', b'ruining', b'actors', b'like',\n",
      "  b'christopher', b'walkens', b'good', b'name', b'i', b'could', b'barely',\n",
      "  b'sit', b'through', b'it']                                                ,\n",
      " [b'i', b'have', b'been', b'known', b'to', b'fall', b'asleep', b'during',\n",
      "  b'films', b'but', b'this', b'is', b'usually', b'due', b'to', b'a',\n",
      "  b'combination', b'of', b'things', b'including', b'really', b'tired',\n",
      "  b'being', b'warm', b'and', b'comfortable', b'on', b'the', b'sette',\n",
      "  b'and', b'having', b'just', b'eaten', b'a', b'lot', b'however', b'on',\n",
      "  b'this', b'occasion', b'i', b'fell', b'asleep', b'because', b'the',\n",
      "  b'film', b'was', b'rubbish', b'the', b'plot', b'development', b'was',\n",
      "  b'constant', b'constantly', b'slow', b'and', b'boring', b'things',\n",
      "  b'seemed', b'to', b'happen', b'but', b'with', b'no', b'explanation',\n",
      "  b'of', b'what', b'was', b'causing', b'them', b'or', b'why', b'i',\n",
      "  b'admit', b'i', b'may', b'have', b'missed', b'part', b'of', b'the',\n",
      "  b'film', b'but', b'i', b'watched', b'the', b'majority', b'of', b'it',\n",
      "  b'and', b'everything', b'just', b'seemed', b'to', b'happen', b'of',\n",
      "  b'its', b'own', b'accord', b'without', b'any', b'real', b'concern',\n",
      "  b'for', b'anything', b'else', b'i', b'cant', b'recommend', b'this',\n",
      "  b'film', b'at', b'all']                                                ]>\n"
     ]
    },
    {
     "name": "stderr",
     "output_type": "stream",
     "text": [
      "2023-07-31 12:11:52.926966: W tensorflow/core/kernels/data/cache_dataset_ops.cc:854] The calling iterator did not fully read the dataset being cached. In order to avoid unexpected truncation of the dataset, the partially cached contents of the dataset  will be discarded. This can happen if you have an input pipeline similar to `dataset.cache().take(k).repeat()`. You should use `dataset.take(k).cache().repeat()` instead.\n",
      "2023-07-31 12:11:52.989482: W tensorflow/core/kernels/data/cache_dataset_ops.cc:854] The calling iterator did not fully read the dataset being cached. In order to avoid unexpected truncation of the dataset, the partially cached contents of the dataset  will be discarded. This can happen if you have an input pipeline similar to `dataset.cache().take(k).repeat()`. You should use `dataset.take(k).cache().repeat()` instead.\n"
     ]
    }
   ],
   "source": [
    "class TwoTokenizer(tf.keras.layers.Layer):\n",
    "    def __init__(self):\n",
    "        super(TwoTokenizer, self).__init__()\n",
    "    \n",
    "    def call(self, inputs):\n",
    "        # inputs shape: B, Ragged texts\n",
    "        # print(f\"Type inputs: {type(inputs)}\")\n",
    "        # print(f\"Inputs shape: {inputs.shape}\")\n",
    "        batch_size = tf.shape(inputs)[0]\n",
    "        tokens_flat_tensor_array = tf.TensorArray(dtype=tf.string, size=0, dynamic_size=True)\n",
    "        str_len_tensor_array = tf.TensorArray(dtype=tf.int32, size=0, dynamic_size=True)\n",
    "        start_len = 0\n",
    "        for i in tf.range(batch_size):\n",
    "            string_tensor = inputs[i]\n",
    "            byte_string = string_tensor.numpy()\n",
    "            # print(f\"byte_string: {byte_string}\")\n",
    "            string = byte_string.decode('UTF-8')\n",
    "            tokens = string.split()\n",
    "            for iw in tf.range(len(tokens)):\n",
    "                tokens_flat_tensor_array = tokens_flat_tensor_array.write(start_len + iw, tokens[iw])\n",
    "            str_len_tensor_array = str_len_tensor_array.write(i, len(tokens))\n",
    "            start_len += len(tokens)\n",
    "        \n",
    "        ragged_tensor = tf.RaggedTensor.from_row_lengths(\n",
    "                values=tokens_flat_tensor_array.stack(),\n",
    "                row_lengths=str_len_tensor_array.stack())\n",
    "        # print(f\"type(ragged_tensor): {type(ragged_tensor)}\")\n",
    "        # print(f\"tf.shape(ragged_tensor): {tf.shape(ragged_tensor)}\")\n",
    "        # outputs shape: Ragged tensor: B, Tokens\n",
    "        return ragged_tensor\n",
    "        \n",
    "two_tokenizer = TwoTokenizer()\n",
    "\n",
    "# for d in train_dataset.batch(args.batch_size).take(1):\n",
    "for d in train_dataset.batch(2).take(1):\n",
    "    two_processed = two_tokenizer(d[0])\n",
    "    print(f\"two_processed layer: {two_processed}\")\n",
    "\n",
    "two_model = keras.models.Sequential()\n",
    "two_model.add(one_text_preprocessing)\n",
    "two_model.add(two_tokenizer)\n",
    "for d in train_dataset.batch(2).take(1):\n",
    "    two_processed = two_model(d[0])\n",
    "    print(f\"two_processed model: {two_processed}\")"
   ]
  },
  {
   "cell_type": "code",
   "execution_count": 21,
   "id": "f851e838-d5fa-4b3f-832d-11dee20c73e6",
   "metadata": {
    "scrolled": true
   },
   "outputs": [
    {
     "name": "stderr",
     "output_type": "stream",
     "text": [
      "2023-07-31 16:10:13.355737: W tensorflow/core/kernels/data/cache_dataset_ops.cc:854] The calling iterator did not fully read the dataset being cached. In order to avoid unexpected truncation of the dataset, the partially cached contents of the dataset  will be discarded. This can happen if you have an input pipeline similar to `dataset.cache().take(k).repeat()`. You should use `dataset.take(k).cache().repeat()` instead.\n"
     ]
    },
    {
     "name": "stdout",
     "output_type": "stream",
     "text": [
      "two_processed model: [[43.  2.  1.  2.  1.  0.  1.  3.  5.  1.  2.  2.  0.  1.  0.  1.  3.  0.\n",
      "   3.  2.  0.  0.  2.  0.  0.  2.  0.  1.  0.  2.  0.  0.  1.  0.  0.  0.\n",
      "   1.  0.  0.  0.  0.  1.  2.  0.  0.  0.  0.  1.  0.  0.  1.  1.  0.  0.\n",
      "   3.  0.  0.  0.  0.  0.  1.  0.  0.  0.  0.  0.  0.  0.  0.  2.  0.  0.\n",
      "   0.  1.  0.  0.  2.  2.  0.  0.  0.  0.  1.  0.  0.  0.  0.  0.  0.  2.\n",
      "   0.  0.  0.  0.  0.  0.  1.  0.  0.  0.  0.  0.  0.  0.  0.  0.  0.  0.\n",
      "   0.  2.  0.  0.  0.  0.  0.  0.  0.  0.  0.  0.  0.  0.  0.  0.  0.  0.\n",
      "   1.  1.  0.  0.  0.  0.  0.  0.  0.  1.  1.  0.  0.  0.  0.  1.  0.  0.\n",
      "   0.  0.  0.  0.  0.  0.  0.  0.  0.  0.  1.  1.  0.  0.  0.  0.  0.  0.\n",
      "   0.  0.  0.  0.  0.  0.  1.  0.  0.  0.  0.  0.  0.  0.  0.  0.  0.  0.\n",
      "   0.  0.  0.  0.  0.  0.  0.  0.  0.  0.  0.  0.  0.  0.  0.  0.  0.  1.\n",
      "   0.  0.  0.  0.  0.  0.  0.  0.  0.  0.  0.  0.  0.  0.  0.  0.  0.  0.\n",
      "   1.  0.  0.  0.  0.  0.  0.  0.  0.  0.  0.  1.  0.  0.  0.  0.  0.  0.\n",
      "   0.  0.  0.  0.  0.  0.  0.  0.  0.  0.  0.  0.  0.  0.  0.  0.]\n",
      " [38.  5.  4.  2.  5.  4.  1.  0.  3.  1.  6.  0.  0.  1.  0.  1.  3.  3.\n",
      "   0.  3.  0.  0.  0.  2.  0.  0.  2.  0.  1.  0.  0.  1.  0.  0.  2.  0.\n",
      "   0.  1.  0.  0.  0.  1.  0.  0.  0.  0.  1.  0.  1.  0.  0.  0.  0.  0.\n",
      "   0.  0.  0.  0.  1.  0.  0.  0.  0.  0.  0.  0.  0.  0.  0.  0.  0.  0.\n",
      "   0.  0.  0.  0.  0.  0.  0.  0.  0.  0.  0.  0.  0.  1.  0.  1.  0.  0.\n",
      "   0.  0.  0.  0.  0.  0.  1.  1.  1.  0.  0.  0.  0.  0.  0.  0.  0.  0.\n",
      "   0.  0.  0.  1.  0.  0.  0.  0.  0.  0.  0.  1.  0.  0.  1.  1.  0.  0.\n",
      "   0.  0.  0.  0.  0.  0.  0.  0.  0.  0.  0.  0.  0.  0.  0.  1.  1.  0.\n",
      "   0.  0.  0.  0.  0.  0.  0.  0.  0.  0.  0.  0.  0.  0.  0.  0.  0.  0.\n",
      "   0.  0.  0.  0.  0.  0.  0.  0.  0.  0.  0.  0.  0.  0.  0.  0.  2.  0.\n",
      "   0.  0.  0.  0.  0.  0.  0.  0.  0.  0.  0.  0.  0.  0.  0.  0.  0.  0.\n",
      "   1.  0.  0.  0.  0.  0.  0.  0.  1.  0.  0.  0.  0.  0.  0.  0.  0.  0.\n",
      "   0.  1.  0.  0.  0.  0.  0.  0.  0.  0.  0.  0.  1.  0.  0.  0.  0.  0.\n",
      "   0.  0.  0.  0.  0.  1.  1.  0.  0.  0.  0.  0.  0.  0.  0.  0.]]\n"
     ]
    },
    {
     "name": "stderr",
     "output_type": "stream",
     "text": [
      "2023-07-31 16:10:14.209751: W tensorflow/core/kernels/data/cache_dataset_ops.cc:854] The calling iterator did not fully read the dataset being cached. In order to avoid unexpected truncation of the dataset, the partially cached contents of the dataset  will be discarded. This can happen if you have an input pipeline similar to `dataset.cache().take(k).repeat()`. You should use `dataset.take(k).cache().repeat()` instead.\n"
     ]
    }
   ],
   "source": [
    "from collections import Counter \n",
    "import functools\n",
    "\n",
    "class ThreeVectorizer(tf.keras.layers.Layer):\n",
    "    def __init__(self, token_to_int: dict):\n",
    "        super(ThreeVectorizer, self).__init__()\n",
    "        self._token_to_int = token_to_int\n",
    "        self._vocab_size = len(self._token_to_int) + 1\n",
    "    \n",
    "    def call(self, inputs):  \n",
    "        batch_size = tf.shape(inputs)[0]\n",
    "        outputs = tf.TensorArray(dtype=tf.float32, size=0, dynamic_size=True)\n",
    "        for i in tf.range(batch_size):\n",
    "            tokens = inputs[i]\n",
    "            array_string = tf.TensorArray(dtype=tf.float32, size=self._vocab_size)\n",
    "            array_string.unstack(tf.zeros(self._vocab_size))\n",
    "            for token in tokens:\n",
    "                idx = self._token_to_int.get(token.numpy(), tf.constant(0))\n",
    "                array_string = array_string.write(idx, array_string.read(idx) + 1.0)\n",
    "            outputs = outputs.write(i, array_string.stack())\n",
    "        return outputs.stack()\n",
    "\n",
    "    @classmethod\n",
    "    @functools.lru_cache(maxsize=10)\n",
    "    def from_train_data(cls, train_ds, vocab_size=args.small_vocab_size, batch_size=args.batch_size, take=5):\n",
    "        _one_text_preprocessing = OneTextPreprocessing()\n",
    "        _two_tokenizer = TwoTokenizer()\n",
    "        _preproc_mdl = keras.models.Sequential()\n",
    "        _preproc_mdl.add(_one_text_preprocessing)\n",
    "        _preproc_mdl.add(_two_tokenizer)\n",
    "\n",
    "        _counter = Counter()\n",
    "        for d in train_ds.batch(batch_size).take(take):\n",
    "            _processed = _preproc_mdl(d[0])\n",
    "            for b in _processed:\n",
    "                _counter.update(b.numpy().tolist())\n",
    "\n",
    "        # +-1 cause we need space for unknown tokens with 0 index\n",
    "        _token_dict = {k: tf.cast(i + 1, tf.int32) for i, (k, _) in enumerate(_counter.most_common(vocab_size - 1))}\n",
    "        return cls(_token_dict)\n",
    "\n",
    "three_vectorizer = ThreeVectorizer.from_train_data(train_dataset)\n",
    "\n",
    "three_model = keras.models.Sequential()\n",
    "three_model.add(one_text_preprocessing)\n",
    "three_model.add(two_tokenizer)\n",
    "three_model.add(three_vectorizer)\n",
    "for d in train_dataset.batch(2).take(1):\n",
    "    three_processed = three_model(d[0])\n",
    "    print(f\"three_processed model: {three_processed}\")"
   ]
  }
 ],
 "metadata": {
  "kernelspec": {
   "display_name": "Python 3 (ipykernel)",
   "language": "python",
   "name": "python3"
  },
  "language_info": {
   "codemirror_mode": {
    "name": "ipython",
    "version": 3
   },
   "file_extension": ".py",
   "mimetype": "text/x-python",
   "name": "python",
   "nbconvert_exporter": "python",
   "pygments_lexer": "ipython3",
   "version": "3.10.11"
  }
 },
 "nbformat": 4,
 "nbformat_minor": 5
}
